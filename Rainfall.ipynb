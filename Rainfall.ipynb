{
 "cells": [
  {
   "cell_type": "code",
   "execution_count": 1,
   "id": "505ab64a",
   "metadata": {},
   "outputs": [],
   "source": [
    "import pandas as pd\n",
    "import sklearn as sk\n",
    "import matplotlib.pyplot as plt\n",
    "import numpy as np\n",
    "import warnings\n",
    "\n",
    "warnings.filterwarnings('ignore')"
   ]
  },
  {
   "cell_type": "code",
   "execution_count": 2,
   "id": "049b3c5a",
   "metadata": {},
   "outputs": [
    {
     "data": {
      "text/html": [
       "<div>\n",
       "<style scoped>\n",
       "    .dataframe tbody tr th:only-of-type {\n",
       "        vertical-align: middle;\n",
       "    }\n",
       "\n",
       "    .dataframe tbody tr th {\n",
       "        vertical-align: top;\n",
       "    }\n",
       "\n",
       "    .dataframe thead th {\n",
       "        text-align: right;\n",
       "    }\n",
       "</style>\n",
       "<table border=\"1\" class=\"dataframe\">\n",
       "  <thead>\n",
       "    <tr style=\"text-align: right;\">\n",
       "      <th></th>\n",
       "      <th>Year</th>\n",
       "      <th>Jan</th>\n",
       "      <th>Feb</th>\n",
       "      <th>Mar</th>\n",
       "      <th>April</th>\n",
       "      <th>May</th>\n",
       "      <th>June</th>\n",
       "      <th>July</th>\n",
       "      <th>Aug</th>\n",
       "      <th>Sept</th>\n",
       "      <th>Oct</th>\n",
       "      <th>Nov</th>\n",
       "      <th>Dec</th>\n",
       "      <th>Total</th>\n",
       "    </tr>\n",
       "  </thead>\n",
       "  <tbody>\n",
       "    <tr>\n",
       "      <th>0</th>\n",
       "      <td>1901</td>\n",
       "      <td>10.112927</td>\n",
       "      <td>52.862372</td>\n",
       "      <td>7.168071</td>\n",
       "      <td>75.917375</td>\n",
       "      <td>32.831126</td>\n",
       "      <td>83.528905</td>\n",
       "      <td>188.379469</td>\n",
       "      <td>119.180072</td>\n",
       "      <td>44.675581</td>\n",
       "      <td>88.293638</td>\n",
       "      <td>24.407491</td>\n",
       "      <td>0.000000</td>\n",
       "      <td>727.357028</td>\n",
       "    </tr>\n",
       "    <tr>\n",
       "      <th>1</th>\n",
       "      <td>1902</td>\n",
       "      <td>0.240396</td>\n",
       "      <td>0.000000</td>\n",
       "      <td>1.652090</td>\n",
       "      <td>8.938205</td>\n",
       "      <td>7.725327</td>\n",
       "      <td>45.802008</td>\n",
       "      <td>36.952134</td>\n",
       "      <td>134.102439</td>\n",
       "      <td>270.882651</td>\n",
       "      <td>80.018227</td>\n",
       "      <td>16.555297</td>\n",
       "      <td>6.553475</td>\n",
       "      <td>609.422251</td>\n",
       "    </tr>\n",
       "    <tr>\n",
       "      <th>2</th>\n",
       "      <td>1903</td>\n",
       "      <td>9.087042</td>\n",
       "      <td>0.000000</td>\n",
       "      <td>0.000000</td>\n",
       "      <td>9.145082</td>\n",
       "      <td>72.514370</td>\n",
       "      <td>23.707486</td>\n",
       "      <td>315.810907</td>\n",
       "      <td>279.061634</td>\n",
       "      <td>229.481830</td>\n",
       "      <td>281.198519</td>\n",
       "      <td>56.139121</td>\n",
       "      <td>1.791662</td>\n",
       "      <td>1277.937654</td>\n",
       "    </tr>\n",
       "    <tr>\n",
       "      <th>3</th>\n",
       "      <td>1904</td>\n",
       "      <td>0.000000</td>\n",
       "      <td>0.000000</td>\n",
       "      <td>8.360287</td>\n",
       "      <td>6.717636</td>\n",
       "      <td>33.226691</td>\n",
       "      <td>101.047456</td>\n",
       "      <td>155.568144</td>\n",
       "      <td>26.521762</td>\n",
       "      <td>170.547767</td>\n",
       "      <td>67.828693</td>\n",
       "      <td>0.000000</td>\n",
       "      <td>0.000000</td>\n",
       "      <td>569.818436</td>\n",
       "    </tr>\n",
       "    <tr>\n",
       "      <th>4</th>\n",
       "      <td>1905</td>\n",
       "      <td>0.000000</td>\n",
       "      <td>1.681273</td>\n",
       "      <td>9.383354</td>\n",
       "      <td>13.284002</td>\n",
       "      <td>73.832949</td>\n",
       "      <td>49.214737</td>\n",
       "      <td>53.542535</td>\n",
       "      <td>229.292151</td>\n",
       "      <td>93.277458</td>\n",
       "      <td>52.497142</td>\n",
       "      <td>0.000000</td>\n",
       "      <td>0.000000</td>\n",
       "      <td>576.005602</td>\n",
       "    </tr>\n",
       "    <tr>\n",
       "      <th>5</th>\n",
       "      <td>1906</td>\n",
       "      <td>71.067005</td>\n",
       "      <td>0.000000</td>\n",
       "      <td>0.000000</td>\n",
       "      <td>2.812402</td>\n",
       "      <td>7.633192</td>\n",
       "      <td>200.127497</td>\n",
       "      <td>144.315883</td>\n",
       "      <td>158.656011</td>\n",
       "      <td>102.807883</td>\n",
       "      <td>68.678941</td>\n",
       "      <td>3.477802</td>\n",
       "      <td>50.046886</td>\n",
       "      <td>809.623503</td>\n",
       "    </tr>\n",
       "    <tr>\n",
       "      <th>6</th>\n",
       "      <td>1907</td>\n",
       "      <td>0.961584</td>\n",
       "      <td>0.000000</td>\n",
       "      <td>20.391978</td>\n",
       "      <td>157.427069</td>\n",
       "      <td>0.000000</td>\n",
       "      <td>118.577083</td>\n",
       "      <td>181.582985</td>\n",
       "      <td>201.444248</td>\n",
       "      <td>65.778464</td>\n",
       "      <td>0.136468</td>\n",
       "      <td>3.015005</td>\n",
       "      <td>26.868880</td>\n",
       "      <td>776.183765</td>\n",
       "    </tr>\n",
       "    <tr>\n",
       "      <th>7</th>\n",
       "      <td>1908</td>\n",
       "      <td>1.044521</td>\n",
       "      <td>0.764223</td>\n",
       "      <td>3.026495</td>\n",
       "      <td>1.256567</td>\n",
       "      <td>0.968646</td>\n",
       "      <td>122.748393</td>\n",
       "      <td>97.675357</td>\n",
       "      <td>166.767097</td>\n",
       "      <td>497.116671</td>\n",
       "      <td>2.427807</td>\n",
       "      <td>0.000000</td>\n",
       "      <td>0.000000</td>\n",
       "      <td>893.795778</td>\n",
       "    </tr>\n",
       "    <tr>\n",
       "      <th>8</th>\n",
       "      <td>1909</td>\n",
       "      <td>0.384634</td>\n",
       "      <td>0.604007</td>\n",
       "      <td>0.000000</td>\n",
       "      <td>66.094051</td>\n",
       "      <td>4.482251</td>\n",
       "      <td>151.449612</td>\n",
       "      <td>198.137322</td>\n",
       "      <td>94.976031</td>\n",
       "      <td>166.615558</td>\n",
       "      <td>8.484586</td>\n",
       "      <td>0.000000</td>\n",
       "      <td>0.000000</td>\n",
       "      <td>691.228051</td>\n",
       "    </tr>\n",
       "    <tr>\n",
       "      <th>9</th>\n",
       "      <td>1910</td>\n",
       "      <td>0.000000</td>\n",
       "      <td>0.000000</td>\n",
       "      <td>0.000000</td>\n",
       "      <td>1.464826</td>\n",
       "      <td>9.384546</td>\n",
       "      <td>158.429802</td>\n",
       "      <td>96.795666</td>\n",
       "      <td>135.171103</td>\n",
       "      <td>152.647068</td>\n",
       "      <td>97.074867</td>\n",
       "      <td>40.753163</td>\n",
       "      <td>0.000000</td>\n",
       "      <td>691.721042</td>\n",
       "    </tr>\n",
       "    <tr>\n",
       "      <th>10</th>\n",
       "      <td>1911</td>\n",
       "      <td>0.000000</td>\n",
       "      <td>0.000000</td>\n",
       "      <td>0.223808</td>\n",
       "      <td>2.994595</td>\n",
       "      <td>16.193493</td>\n",
       "      <td>75.037646</td>\n",
       "      <td>172.634580</td>\n",
       "      <td>159.566182</td>\n",
       "      <td>48.762901</td>\n",
       "      <td>19.170774</td>\n",
       "      <td>26.438021</td>\n",
       "      <td>0.000000</td>\n",
       "      <td>521.022000</td>\n",
       "    </tr>\n",
       "    <tr>\n",
       "      <th>11</th>\n",
       "      <td>1912</td>\n",
       "      <td>0.000000</td>\n",
       "      <td>56.263705</td>\n",
       "      <td>0.000000</td>\n",
       "      <td>28.629399</td>\n",
       "      <td>6.658751</td>\n",
       "      <td>52.742803</td>\n",
       "      <td>149.213685</td>\n",
       "      <td>191.864646</td>\n",
       "      <td>89.001127</td>\n",
       "      <td>16.453418</td>\n",
       "      <td>25.763988</td>\n",
       "      <td>0.000000</td>\n",
       "      <td>616.591522</td>\n",
       "    </tr>\n",
       "    <tr>\n",
       "      <th>12</th>\n",
       "      <td>1913</td>\n",
       "      <td>0.000000</td>\n",
       "      <td>6.122543</td>\n",
       "      <td>0.000000</td>\n",
       "      <td>3.660682</td>\n",
       "      <td>49.455047</td>\n",
       "      <td>67.714203</td>\n",
       "      <td>159.148974</td>\n",
       "      <td>76.596983</td>\n",
       "      <td>64.698244</td>\n",
       "      <td>41.805858</td>\n",
       "      <td>0.000000</td>\n",
       "      <td>0.000000</td>\n",
       "      <td>469.202533</td>\n",
       "    </tr>\n",
       "    <tr>\n",
       "      <th>13</th>\n",
       "      <td>1914</td>\n",
       "      <td>0.000000</td>\n",
       "      <td>0.000000</td>\n",
       "      <td>9.602656</td>\n",
       "      <td>7.599312</td>\n",
       "      <td>43.407728</td>\n",
       "      <td>217.844569</td>\n",
       "      <td>263.491569</td>\n",
       "      <td>158.927944</td>\n",
       "      <td>250.781990</td>\n",
       "      <td>0.000000</td>\n",
       "      <td>3.082791</td>\n",
       "      <td>7.041333</td>\n",
       "      <td>961.779893</td>\n",
       "    </tr>\n",
       "    <tr>\n",
       "      <th>14</th>\n",
       "      <td>1915</td>\n",
       "      <td>16.030521</td>\n",
       "      <td>2.466550</td>\n",
       "      <td>81.309946</td>\n",
       "      <td>7.889230</td>\n",
       "      <td>16.342324</td>\n",
       "      <td>170.234706</td>\n",
       "      <td>199.695361</td>\n",
       "      <td>234.883913</td>\n",
       "      <td>329.014076</td>\n",
       "      <td>179.282968</td>\n",
       "      <td>15.237731</td>\n",
       "      <td>0.000000</td>\n",
       "      <td>1252.387325</td>\n",
       "    </tr>\n",
       "    <tr>\n",
       "      <th>15</th>\n",
       "      <td>1916</td>\n",
       "      <td>0.000000</td>\n",
       "      <td>9.656149</td>\n",
       "      <td>0.000000</td>\n",
       "      <td>48.507078</td>\n",
       "      <td>16.663520</td>\n",
       "      <td>177.487145</td>\n",
       "      <td>254.370304</td>\n",
       "      <td>85.932084</td>\n",
       "      <td>262.728329</td>\n",
       "      <td>289.550440</td>\n",
       "      <td>53.221596</td>\n",
       "      <td>15.769977</td>\n",
       "      <td>1213.886622</td>\n",
       "    </tr>\n",
       "    <tr>\n",
       "      <th>16</th>\n",
       "      <td>1917</td>\n",
       "      <td>0.000000</td>\n",
       "      <td>36.101044</td>\n",
       "      <td>57.790226</td>\n",
       "      <td>40.364799</td>\n",
       "      <td>48.466120</td>\n",
       "      <td>72.497357</td>\n",
       "      <td>167.940951</td>\n",
       "      <td>154.263574</td>\n",
       "      <td>183.859078</td>\n",
       "      <td>122.087301</td>\n",
       "      <td>13.471633</td>\n",
       "      <td>0.000000</td>\n",
       "      <td>896.842083</td>\n",
       "    </tr>\n",
       "    <tr>\n",
       "      <th>17</th>\n",
       "      <td>1918</td>\n",
       "      <td>18.002111</td>\n",
       "      <td>0.000000</td>\n",
       "      <td>26.736016</td>\n",
       "      <td>12.597386</td>\n",
       "      <td>57.735233</td>\n",
       "      <td>44.120010</td>\n",
       "      <td>111.614001</td>\n",
       "      <td>83.214945</td>\n",
       "      <td>140.957601</td>\n",
       "      <td>6.030629</td>\n",
       "      <td>20.767487</td>\n",
       "      <td>12.895242</td>\n",
       "      <td>534.670661</td>\n",
       "    </tr>\n",
       "    <tr>\n",
       "      <th>18</th>\n",
       "      <td>1919</td>\n",
       "      <td>0.000000</td>\n",
       "      <td>0.750806</td>\n",
       "      <td>0.104857</td>\n",
       "      <td>32.050690</td>\n",
       "      <td>15.157384</td>\n",
       "      <td>217.464546</td>\n",
       "      <td>148.365719</td>\n",
       "      <td>96.808203</td>\n",
       "      <td>190.991681</td>\n",
       "      <td>98.047565</td>\n",
       "      <td>165.231181</td>\n",
       "      <td>18.619647</td>\n",
       "      <td>983.592279</td>\n",
       "    </tr>\n",
       "    <tr>\n",
       "      <th>19</th>\n",
       "      <td>1920</td>\n",
       "      <td>48.040206</td>\n",
       "      <td>0.000000</td>\n",
       "      <td>0.000000</td>\n",
       "      <td>45.485250</td>\n",
       "      <td>69.312195</td>\n",
       "      <td>71.359199</td>\n",
       "      <td>170.348522</td>\n",
       "      <td>114.540004</td>\n",
       "      <td>79.395282</td>\n",
       "      <td>30.428506</td>\n",
       "      <td>0.000000</td>\n",
       "      <td>0.000000</td>\n",
       "      <td>628.909164</td>\n",
       "    </tr>\n",
       "    <tr>\n",
       "      <th>20</th>\n",
       "      <td>1921</td>\n",
       "      <td>1.442376</td>\n",
       "      <td>0.000000</td>\n",
       "      <td>0.000000</td>\n",
       "      <td>6.553718</td>\n",
       "      <td>0.144238</td>\n",
       "      <td>122.990193</td>\n",
       "      <td>270.087323</td>\n",
       "      <td>93.003080</td>\n",
       "      <td>85.606619</td>\n",
       "      <td>94.124013</td>\n",
       "      <td>53.237519</td>\n",
       "      <td>0.000000</td>\n",
       "      <td>727.189078</td>\n",
       "    </tr>\n",
       "    <tr>\n",
       "      <th>21</th>\n",
       "      <td>1922</td>\n",
       "      <td>100.900552</td>\n",
       "      <td>0.000000</td>\n",
       "      <td>0.000000</td>\n",
       "      <td>10.544957</td>\n",
       "      <td>13.883977</td>\n",
       "      <td>35.428784</td>\n",
       "      <td>64.358986</td>\n",
       "      <td>54.140974</td>\n",
       "      <td>145.441014</td>\n",
       "      <td>49.794934</td>\n",
       "      <td>20.319230</td>\n",
       "      <td>0.000000</td>\n",
       "      <td>494.813408</td>\n",
       "    </tr>\n",
       "    <tr>\n",
       "      <th>22</th>\n",
       "      <td>1923</td>\n",
       "      <td>0.000000</td>\n",
       "      <td>10.208729</td>\n",
       "      <td>7.552846</td>\n",
       "      <td>6.352730</td>\n",
       "      <td>16.506212</td>\n",
       "      <td>24.520450</td>\n",
       "      <td>243.465271</td>\n",
       "      <td>81.365191</td>\n",
       "      <td>214.992582</td>\n",
       "      <td>0.384634</td>\n",
       "      <td>0.000000</td>\n",
       "      <td>0.000000</td>\n",
       "      <td>605.348645</td>\n",
       "    </tr>\n",
       "    <tr>\n",
       "      <th>23</th>\n",
       "      <td>1924</td>\n",
       "      <td>13.164852</td>\n",
       "      <td>0.000000</td>\n",
       "      <td>0.000000</td>\n",
       "      <td>13.554600</td>\n",
       "      <td>13.516994</td>\n",
       "      <td>56.405311</td>\n",
       "      <td>165.538941</td>\n",
       "      <td>131.934732</td>\n",
       "      <td>189.558542</td>\n",
       "      <td>89.220163</td>\n",
       "      <td>135.511900</td>\n",
       "      <td>0.000000</td>\n",
       "      <td>808.406036</td>\n",
       "    </tr>\n",
       "    <tr>\n",
       "      <th>24</th>\n",
       "      <td>1925</td>\n",
       "      <td>0.000000</td>\n",
       "      <td>0.000000</td>\n",
       "      <td>0.000000</td>\n",
       "      <td>23.083486</td>\n",
       "      <td>64.711360</td>\n",
       "      <td>76.473086</td>\n",
       "      <td>165.370923</td>\n",
       "      <td>186.627802</td>\n",
       "      <td>90.434993</td>\n",
       "      <td>254.377033</td>\n",
       "      <td>23.660884</td>\n",
       "      <td>1.983908</td>\n",
       "      <td>886.723476</td>\n",
       "    </tr>\n",
       "    <tr>\n",
       "      <th>25</th>\n",
       "      <td>1926</td>\n",
       "      <td>48.263303</td>\n",
       "      <td>4.721697</td>\n",
       "      <td>7.125187</td>\n",
       "      <td>76.462946</td>\n",
       "      <td>41.735352</td>\n",
       "      <td>23.731642</td>\n",
       "      <td>109.806669</td>\n",
       "      <td>117.664325</td>\n",
       "      <td>145.967350</td>\n",
       "      <td>14.157263</td>\n",
       "      <td>0.000000</td>\n",
       "      <td>0.000000</td>\n",
       "      <td>589.635735</td>\n",
       "    </tr>\n",
       "    <tr>\n",
       "      <th>26</th>\n",
       "      <td>1927</td>\n",
       "      <td>0.000000</td>\n",
       "      <td>7.791835</td>\n",
       "      <td>1.172572</td>\n",
       "      <td>0.127453</td>\n",
       "      <td>9.675833</td>\n",
       "      <td>206.353244</td>\n",
       "      <td>213.662066</td>\n",
       "      <td>145.915414</td>\n",
       "      <td>190.991753</td>\n",
       "      <td>38.762952</td>\n",
       "      <td>146.568200</td>\n",
       "      <td>0.000000</td>\n",
       "      <td>961.021321</td>\n",
       "    </tr>\n",
       "    <tr>\n",
       "      <th>27</th>\n",
       "      <td>1928</td>\n",
       "      <td>0.000000</td>\n",
       "      <td>21.112521</td>\n",
       "      <td>62.156456</td>\n",
       "      <td>6.942412</td>\n",
       "      <td>16.657326</td>\n",
       "      <td>126.491946</td>\n",
       "      <td>98.104159</td>\n",
       "      <td>116.735273</td>\n",
       "      <td>194.307790</td>\n",
       "      <td>146.203626</td>\n",
       "      <td>0.000000</td>\n",
       "      <td>12.638263</td>\n",
       "      <td>801.349772</td>\n",
       "    </tr>\n",
       "    <tr>\n",
       "      <th>28</th>\n",
       "      <td>1929</td>\n",
       "      <td>0.000000</td>\n",
       "      <td>61.722454</td>\n",
       "      <td>0.000000</td>\n",
       "      <td>28.760638</td>\n",
       "      <td>4.206786</td>\n",
       "      <td>85.054321</td>\n",
       "      <td>79.983442</td>\n",
       "      <td>115.038978</td>\n",
       "      <td>195.562389</td>\n",
       "      <td>20.921122</td>\n",
       "      <td>0.000000</td>\n",
       "      <td>0.207432</td>\n",
       "      <td>591.457563</td>\n",
       "    </tr>\n",
       "    <tr>\n",
       "      <th>29</th>\n",
       "      <td>1930</td>\n",
       "      <td>0.000000</td>\n",
       "      <td>10.013987</td>\n",
       "      <td>5.966526</td>\n",
       "      <td>36.863246</td>\n",
       "      <td>1.609971</td>\n",
       "      <td>104.414321</td>\n",
       "      <td>144.242154</td>\n",
       "      <td>116.340087</td>\n",
       "      <td>139.358575</td>\n",
       "      <td>66.640379</td>\n",
       "      <td>31.859895</td>\n",
       "      <td>0.000000</td>\n",
       "      <td>657.309142</td>\n",
       "    </tr>\n",
       "  </tbody>\n",
       "</table>\n",
       "</div>"
      ],
      "text/plain": [
       "    Year         Jan        Feb        Mar       April        May        June  \\\n",
       "0   1901   10.112927  52.862372   7.168071   75.917375  32.831126   83.528905   \n",
       "1   1902    0.240396   0.000000   1.652090    8.938205   7.725327   45.802008   \n",
       "2   1903    9.087042   0.000000   0.000000    9.145082  72.514370   23.707486   \n",
       "3   1904    0.000000   0.000000   8.360287    6.717636  33.226691  101.047456   \n",
       "4   1905    0.000000   1.681273   9.383354   13.284002  73.832949   49.214737   \n",
       "5   1906   71.067005   0.000000   0.000000    2.812402   7.633192  200.127497   \n",
       "6   1907    0.961584   0.000000  20.391978  157.427069   0.000000  118.577083   \n",
       "7   1908    1.044521   0.764223   3.026495    1.256567   0.968646  122.748393   \n",
       "8   1909    0.384634   0.604007   0.000000   66.094051   4.482251  151.449612   \n",
       "9   1910    0.000000   0.000000   0.000000    1.464826   9.384546  158.429802   \n",
       "10  1911    0.000000   0.000000   0.223808    2.994595  16.193493   75.037646   \n",
       "11  1912    0.000000  56.263705   0.000000   28.629399   6.658751   52.742803   \n",
       "12  1913    0.000000   6.122543   0.000000    3.660682  49.455047   67.714203   \n",
       "13  1914    0.000000   0.000000   9.602656    7.599312  43.407728  217.844569   \n",
       "14  1915   16.030521   2.466550  81.309946    7.889230  16.342324  170.234706   \n",
       "15  1916    0.000000   9.656149   0.000000   48.507078  16.663520  177.487145   \n",
       "16  1917    0.000000  36.101044  57.790226   40.364799  48.466120   72.497357   \n",
       "17  1918   18.002111   0.000000  26.736016   12.597386  57.735233   44.120010   \n",
       "18  1919    0.000000   0.750806   0.104857   32.050690  15.157384  217.464546   \n",
       "19  1920   48.040206   0.000000   0.000000   45.485250  69.312195   71.359199   \n",
       "20  1921    1.442376   0.000000   0.000000    6.553718   0.144238  122.990193   \n",
       "21  1922  100.900552   0.000000   0.000000   10.544957  13.883977   35.428784   \n",
       "22  1923    0.000000  10.208729   7.552846    6.352730  16.506212   24.520450   \n",
       "23  1924   13.164852   0.000000   0.000000   13.554600  13.516994   56.405311   \n",
       "24  1925    0.000000   0.000000   0.000000   23.083486  64.711360   76.473086   \n",
       "25  1926   48.263303   4.721697   7.125187   76.462946  41.735352   23.731642   \n",
       "26  1927    0.000000   7.791835   1.172572    0.127453   9.675833  206.353244   \n",
       "27  1928    0.000000  21.112521  62.156456    6.942412  16.657326  126.491946   \n",
       "28  1929    0.000000  61.722454   0.000000   28.760638   4.206786   85.054321   \n",
       "29  1930    0.000000  10.013987   5.966526   36.863246   1.609971  104.414321   \n",
       "\n",
       "          July         Aug        Sept         Oct         Nov        Dec  \\\n",
       "0   188.379469  119.180072   44.675581   88.293638   24.407491   0.000000   \n",
       "1    36.952134  134.102439  270.882651   80.018227   16.555297   6.553475   \n",
       "2   315.810907  279.061634  229.481830  281.198519   56.139121   1.791662   \n",
       "3   155.568144   26.521762  170.547767   67.828693    0.000000   0.000000   \n",
       "4    53.542535  229.292151   93.277458   52.497142    0.000000   0.000000   \n",
       "5   144.315883  158.656011  102.807883   68.678941    3.477802  50.046886   \n",
       "6   181.582985  201.444248   65.778464    0.136468    3.015005  26.868880   \n",
       "7    97.675357  166.767097  497.116671    2.427807    0.000000   0.000000   \n",
       "8   198.137322   94.976031  166.615558    8.484586    0.000000   0.000000   \n",
       "9    96.795666  135.171103  152.647068   97.074867   40.753163   0.000000   \n",
       "10  172.634580  159.566182   48.762901   19.170774   26.438021   0.000000   \n",
       "11  149.213685  191.864646   89.001127   16.453418   25.763988   0.000000   \n",
       "12  159.148974   76.596983   64.698244   41.805858    0.000000   0.000000   \n",
       "13  263.491569  158.927944  250.781990    0.000000    3.082791   7.041333   \n",
       "14  199.695361  234.883913  329.014076  179.282968   15.237731   0.000000   \n",
       "15  254.370304   85.932084  262.728329  289.550440   53.221596  15.769977   \n",
       "16  167.940951  154.263574  183.859078  122.087301   13.471633   0.000000   \n",
       "17  111.614001   83.214945  140.957601    6.030629   20.767487  12.895242   \n",
       "18  148.365719   96.808203  190.991681   98.047565  165.231181  18.619647   \n",
       "19  170.348522  114.540004   79.395282   30.428506    0.000000   0.000000   \n",
       "20  270.087323   93.003080   85.606619   94.124013   53.237519   0.000000   \n",
       "21   64.358986   54.140974  145.441014   49.794934   20.319230   0.000000   \n",
       "22  243.465271   81.365191  214.992582    0.384634    0.000000   0.000000   \n",
       "23  165.538941  131.934732  189.558542   89.220163  135.511900   0.000000   \n",
       "24  165.370923  186.627802   90.434993  254.377033   23.660884   1.983908   \n",
       "25  109.806669  117.664325  145.967350   14.157263    0.000000   0.000000   \n",
       "26  213.662066  145.915414  190.991753   38.762952  146.568200   0.000000   \n",
       "27   98.104159  116.735273  194.307790  146.203626    0.000000  12.638263   \n",
       "28   79.983442  115.038978  195.562389   20.921122    0.000000   0.207432   \n",
       "29  144.242154  116.340087  139.358575   66.640379   31.859895   0.000000   \n",
       "\n",
       "          Total  \n",
       "0    727.357028  \n",
       "1    609.422251  \n",
       "2   1277.937654  \n",
       "3    569.818436  \n",
       "4    576.005602  \n",
       "5    809.623503  \n",
       "6    776.183765  \n",
       "7    893.795778  \n",
       "8    691.228051  \n",
       "9    691.721042  \n",
       "10   521.022000  \n",
       "11   616.591522  \n",
       "12   469.202533  \n",
       "13   961.779893  \n",
       "14  1252.387325  \n",
       "15  1213.886622  \n",
       "16   896.842083  \n",
       "17   534.670661  \n",
       "18   983.592279  \n",
       "19   628.909164  \n",
       "20   727.189078  \n",
       "21   494.813408  \n",
       "22   605.348645  \n",
       "23   808.406036  \n",
       "24   886.723476  \n",
       "25   589.635735  \n",
       "26   961.021321  \n",
       "27   801.349772  \n",
       "28   591.457563  \n",
       "29   657.309142  "
      ]
     },
     "execution_count": 2,
     "metadata": {},
     "output_type": "execute_result"
    }
   ],
   "source": [
    "df=pd.read_csv(\"hyd-monthly-rains.csv\")\n",
    "df.head(30)"
   ]
  },
  {
   "cell_type": "code",
   "execution_count": 3,
   "id": "75130841",
   "metadata": {},
   "outputs": [
    {
     "name": "stdout",
     "output_type": "stream",
     "text": [
      "Year     0\n",
      "Jan      0\n",
      "Feb      0\n",
      "Mar      0\n",
      "April    0\n",
      "May      0\n",
      "June     0\n",
      "July     0\n",
      "Aug      0\n",
      "Sept     0\n",
      "Oct      0\n",
      "Nov      0\n",
      "Dec      0\n",
      "Total    0\n",
      "dtype: int64\n"
     ]
    }
   ],
   "source": [
    "nan_cnt= df.isnull().sum()\n",
    "print(nan_cnt)"
   ]
  },
  {
   "cell_type": "code",
   "execution_count": 4,
   "id": "8d28d43d",
   "metadata": {},
   "outputs": [
    {
     "data": {
      "text/plain": [
       "0      False\n",
       "1      False\n",
       "2      False\n",
       "3      False\n",
       "4      False\n",
       "       ...  \n",
       "116    False\n",
       "117    False\n",
       "118    False\n",
       "119    False\n",
       "120    False\n",
       "Length: 121, dtype: bool"
      ]
     },
     "execution_count": 4,
     "metadata": {},
     "output_type": "execute_result"
    }
   ],
   "source": [
    "dup=df.duplicated()\n",
    "dup"
   ]
  },
  {
   "cell_type": "code",
   "execution_count": 5,
   "id": "81598b11",
   "metadata": {},
   "outputs": [
    {
     "data": {
      "text/plain": [
       "0      1900\n",
       "1      1900\n",
       "2      1900\n",
       "3      1900\n",
       "4      1900\n",
       "       ... \n",
       "116    2000\n",
       "117    2000\n",
       "118    2000\n",
       "119    2020\n",
       "120    2020\n",
       "Name: 20_Gap, Length: 121, dtype: int64"
      ]
     },
     "execution_count": 5,
     "metadata": {},
     "output_type": "execute_result"
    }
   ],
   "source": [
    "df[\"20_Gap\"]=(df['Year'] // 20) * 20\n",
    "df[\"20_Gap\"]"
   ]
  },
  {
   "cell_type": "code",
   "execution_count": 6,
   "id": "e236b21e",
   "metadata": {},
   "outputs": [],
   "source": [
    "monthly_cols = [\"Jan\", \"Feb\", \"Mar\", \"April\", \"May\", \"June\",\n",
    "                \"July\", \"Aug\", \"Sept\", \"Oct\", \"Nov\", \"Dec\"]\n",
    "\n",
    "df_20Gap = df.groupby(\"20_Gap\")[monthly_cols].mean().round(2)\n",
    "df__trp=df_20Gap.transpose()\n",
    "df_melt=df__trp.reset_index().melt(id_vars='index', var_name='20_Gap', value_name='Rainfall')\n",
    "df_melt.rename(columns={'index': 'Month'}, inplace=True)\n",
    "df_melt['20_Gap'] = df_melt['20_Gap'].astype(str)"
   ]
  },
  {
   "cell_type": "code",
   "execution_count": 7,
   "id": "b989092e",
   "metadata": {},
   "outputs": [
    {
     "data": {
      "application/vnd.plotly.v1+json": {
       "config": {
        "plotlyServerURL": "https://plot.ly"
       },
       "data": [
        {
         "hovertemplate": "<b>%{hovertext}</b><br><br>20_Gap=1900<br>Month=%{x}<br>Rainfall=%{y}<extra></extra>",
         "hovertext": [
          "1900",
          "1900",
          "1900",
          "1900",
          "1900",
          "1900",
          "1900",
          "1900",
          "1900",
          "1900",
          "1900",
          "1900"
         ],
         "legendgroup": "1900",
         "line": {
          "color": "#636efa",
          "dash": "solid"
         },
         "marker": {
          "symbol": "circle"
         },
         "mode": "lines+markers",
         "name": "1900",
         "orientation": "v",
         "showlegend": true,
         "type": "scatter",
         "x": [
          "Jan",
          "Feb",
          "Mar",
          "April",
          "May",
          "June",
          "July",
          "Aug",
          "Sept",
          "Oct",
          "Nov",
          "Dec"
         ],
         "xaxis": "x",
         "y": {
          "bdata": "uB6F61G4GkCamZmZmZkhQMP1KFyPwidAw/UoXI/CO0B7FK5H4fo6QJqZmZmZSVxAhetRuB5dZEBmZmZmZlZiQFK4HoXrEWZAzczMzMz8U0Bcj8L1KJw4QGZmZmZmZh1A",
          "dtype": "f8"
         },
         "yaxis": "y"
        },
        {
         "hovertemplate": "<b>%{hovertext}</b><br><br>20_Gap=1920<br>Month=%{x}<br>Rainfall=%{y}<extra></extra>",
         "hovertext": [
          "1920",
          "1920",
          "1920",
          "1920",
          "1920",
          "1920",
          "1920",
          "1920",
          "1920",
          "1920",
          "1920",
          "1920"
         ],
         "legendgroup": "1920",
         "line": {
          "color": "#EF553B",
          "dash": "solid"
         },
         "marker": {
          "symbol": "circle"
         },
         "mode": "lines+markers",
         "name": "1920",
         "orientation": "v",
         "showlegend": true,
         "type": "scatter",
         "x": [
          "Jan",
          "Feb",
          "Mar",
          "April",
          "May",
          "June",
          "July",
          "Aug",
          "Sept",
          "Oct",
          "Nov",
          "Dec"
         ],
         "xaxis": "x",
         "y": {
          "bdata": "CtejcD2KKEBxPQrXo3AmQGZmZmZmZiVAFK5H4XrUPEAK16NwPQo5QMP1KFyPcldApHA9CtdTZEAK16NwPapeQFyPwvUorGJAZmZmZmbGUkBxPQrXo7BBQNejcD0K1xRA",
          "dtype": "f8"
         },
         "yaxis": "y"
        },
        {
         "hovertemplate": "<b>%{hovertext}</b><br><br>20_Gap=1940<br>Month=%{x}<br>Rainfall=%{y}<extra></extra>",
         "hovertext": [
          "1940",
          "1940",
          "1940",
          "1940",
          "1940",
          "1940",
          "1940",
          "1940",
          "1940",
          "1940",
          "1940",
          "1940"
         ],
         "legendgroup": "1940",
         "line": {
          "color": "#00cc96",
          "dash": "solid"
         },
         "marker": {
          "symbol": "circle"
         },
         "mode": "lines+markers",
         "name": "1940",
         "orientation": "v",
         "showlegend": true,
         "type": "scatter",
         "x": [
          "Jan",
          "Feb",
          "Mar",
          "April",
          "May",
          "June",
          "July",
          "Aug",
          "Sept",
          "Oct",
          "Nov",
          "Dec"
         ],
         "xaxis": "x",
         "y": {
          "bdata": "XI/C9Shc3z/hehSuR+EQQDMzMzMzsylAw/UoXI9CMkC4HoXrUfg5QOF6FK5HAVtAXI/C9SjkY0DNzMzMzFRkQJqZmZmZaWNAmpmZmZn5UkB7FK5H4boxQJqZmZmZmQFA",
          "dtype": "f8"
         },
         "yaxis": "y"
        },
        {
         "hovertemplate": "<b>%{hovertext}</b><br><br>20_Gap=1960<br>Month=%{x}<br>Rainfall=%{y}<extra></extra>",
         "hovertext": [
          "1960",
          "1960",
          "1960",
          "1960",
          "1960",
          "1960",
          "1960",
          "1960",
          "1960",
          "1960",
          "1960",
          "1960"
         ],
         "legendgroup": "1960",
         "line": {
          "color": "#ab63fa",
          "dash": "solid"
         },
         "marker": {
          "symbol": "circle"
         },
         "mode": "lines+markers",
         "name": "1960",
         "orientation": "v",
         "showlegend": true,
         "type": "scatter",
         "x": [
          "Jan",
          "Feb",
          "Mar",
          "April",
          "May",
          "June",
          "July",
          "Aug",
          "Sept",
          "Oct",
          "Nov",
          "Dec"
         ],
         "xaxis": "x",
         "y": {
          "bdata": "ZmZmZmZmGECkcD0K1yMiQArXo3A9iiBAzczMzMwMMEAUrkfhetQ7QClcj8L1iFlAXI/C9SisY0DXo3A9CkdjQD0K16NwXWZAzczMzMysWEDNzMzMzAw4QNejcD0K1yBA",
          "dtype": "f8"
         },
         "yaxis": "y"
        },
        {
         "hovertemplate": "<b>%{hovertext}</b><br><br>20_Gap=1980<br>Month=%{x}<br>Rainfall=%{y}<extra></extra>",
         "hovertext": [
          "1980",
          "1980",
          "1980",
          "1980",
          "1980",
          "1980",
          "1980",
          "1980",
          "1980",
          "1980",
          "1980",
          "1980"
         ],
         "legendgroup": "1980",
         "line": {
          "color": "#FFA15A",
          "dash": "solid"
         },
         "marker": {
          "symbol": "circle"
         },
         "mode": "lines+markers",
         "name": "1980",
         "orientation": "v",
         "showlegend": true,
         "type": "scatter",
         "x": [
          "Jan",
          "Feb",
          "Mar",
          "April",
          "May",
          "June",
          "July",
          "Aug",
          "Sept",
          "Oct",
          "Nov",
          "Dec"
         ],
         "xaxis": "x",
         "y": {
          "bdata": "4XoUrkdhIkBxPQrXo3APQClcj8L1KCtAH4XrUbjeM0AfhetRuB47QAAAAAAAMFxA4XoUrkepZkA9CtejcBVkQClcj8L1AGJAmpmZmZnpW0AK16NwPYpAQB+F61G4HhVA",
          "dtype": "f8"
         },
         "yaxis": "y"
        },
        {
         "hovertemplate": "<b>%{hovertext}</b><br><br>20_Gap=2000<br>Month=%{x}<br>Rainfall=%{y}<extra></extra>",
         "hovertext": [
          "2000",
          "2000",
          "2000",
          "2000",
          "2000",
          "2000",
          "2000",
          "2000",
          "2000",
          "2000",
          "2000",
          "2000"
         ],
         "legendgroup": "2000",
         "line": {
          "color": "#19d3f3",
          "dash": "solid"
         },
         "marker": {
          "symbol": "circle"
         },
         "mode": "lines+markers",
         "name": "2000",
         "orientation": "v",
         "showlegend": true,
         "type": "scatter",
         "x": [
          "Jan",
          "Feb",
          "Mar",
          "April",
          "May",
          "June",
          "July",
          "Aug",
          "Sept",
          "Oct",
          "Nov",
          "Dec"
         ],
         "xaxis": "x",
         "y": {
          "bdata": "w/UoXI/CE0CF61G4HgUlQEjhehSuRzRAj8L1KFwPOkCuR+F6FA5BQI/C9ShcX1xAexSuR+HCY0CuR+F6FM5nQKRwPQrX02RAzczMzMwcWECamZmZmZkwQFK4HoXrUQ5A",
          "dtype": "f8"
         },
         "yaxis": "y"
        },
        {
         "hovertemplate": "<b>%{hovertext}</b><br><br>20_Gap=2020<br>Month=%{x}<br>Rainfall=%{y}<extra></extra>",
         "hovertext": [
          "2020",
          "2020",
          "2020",
          "2020",
          "2020",
          "2020",
          "2020",
          "2020",
          "2020",
          "2020",
          "2020",
          "2020"
         ],
         "legendgroup": "2020",
         "line": {
          "color": "#FF6692",
          "dash": "solid"
         },
         "marker": {
          "symbol": "circle"
         },
         "mode": "lines+markers",
         "name": "2020",
         "orientation": "v",
         "showlegend": true,
         "type": "scatter",
         "x": [
          "Jan",
          "Feb",
          "Mar",
          "April",
          "May",
          "June",
          "July",
          "Aug",
          "Sept",
          "Oct",
          "Nov",
          "Dec"
         ],
         "xaxis": "x",
         "y": {
          "bdata": "mpmZmZmZ+T8pXI/C9SgQQOxRuB6F6w9ACtejcD1KMUDsUbgehYtCQB+F61G4ZmJAmpmZmZnpZkAfhetRuGZrQI/C9ShcN3JAUrgeheuJaECamZmZmZkyQAAAAAAAAAAA",
          "dtype": "f8"
         },
         "yaxis": "y"
        }
       ],
       "layout": {
        "height": 600,
        "legend": {
         "title": {
          "text": "20_Gap"
         },
         "tracegroupgap": 0
        },
        "margin": {
         "t": 60
        },
        "template": {
         "data": {
          "bar": [
           {
            "error_x": {
             "color": "#2a3f5f"
            },
            "error_y": {
             "color": "#2a3f5f"
            },
            "marker": {
             "line": {
              "color": "#E5ECF6",
              "width": 0.5
             },
             "pattern": {
              "fillmode": "overlay",
              "size": 10,
              "solidity": 0.2
             }
            },
            "type": "bar"
           }
          ],
          "barpolar": [
           {
            "marker": {
             "line": {
              "color": "#E5ECF6",
              "width": 0.5
             },
             "pattern": {
              "fillmode": "overlay",
              "size": 10,
              "solidity": 0.2
             }
            },
            "type": "barpolar"
           }
          ],
          "carpet": [
           {
            "aaxis": {
             "endlinecolor": "#2a3f5f",
             "gridcolor": "white",
             "linecolor": "white",
             "minorgridcolor": "white",
             "startlinecolor": "#2a3f5f"
            },
            "baxis": {
             "endlinecolor": "#2a3f5f",
             "gridcolor": "white",
             "linecolor": "white",
             "minorgridcolor": "white",
             "startlinecolor": "#2a3f5f"
            },
            "type": "carpet"
           }
          ],
          "choropleth": [
           {
            "colorbar": {
             "outlinewidth": 0,
             "ticks": ""
            },
            "type": "choropleth"
           }
          ],
          "contour": [
           {
            "colorbar": {
             "outlinewidth": 0,
             "ticks": ""
            },
            "colorscale": [
             [
              0,
              "#0d0887"
             ],
             [
              0.1111111111111111,
              "#46039f"
             ],
             [
              0.2222222222222222,
              "#7201a8"
             ],
             [
              0.3333333333333333,
              "#9c179e"
             ],
             [
              0.4444444444444444,
              "#bd3786"
             ],
             [
              0.5555555555555556,
              "#d8576b"
             ],
             [
              0.6666666666666666,
              "#ed7953"
             ],
             [
              0.7777777777777778,
              "#fb9f3a"
             ],
             [
              0.8888888888888888,
              "#fdca26"
             ],
             [
              1,
              "#f0f921"
             ]
            ],
            "type": "contour"
           }
          ],
          "contourcarpet": [
           {
            "colorbar": {
             "outlinewidth": 0,
             "ticks": ""
            },
            "type": "contourcarpet"
           }
          ],
          "heatmap": [
           {
            "colorbar": {
             "outlinewidth": 0,
             "ticks": ""
            },
            "colorscale": [
             [
              0,
              "#0d0887"
             ],
             [
              0.1111111111111111,
              "#46039f"
             ],
             [
              0.2222222222222222,
              "#7201a8"
             ],
             [
              0.3333333333333333,
              "#9c179e"
             ],
             [
              0.4444444444444444,
              "#bd3786"
             ],
             [
              0.5555555555555556,
              "#d8576b"
             ],
             [
              0.6666666666666666,
              "#ed7953"
             ],
             [
              0.7777777777777778,
              "#fb9f3a"
             ],
             [
              0.8888888888888888,
              "#fdca26"
             ],
             [
              1,
              "#f0f921"
             ]
            ],
            "type": "heatmap"
           }
          ],
          "histogram": [
           {
            "marker": {
             "pattern": {
              "fillmode": "overlay",
              "size": 10,
              "solidity": 0.2
             }
            },
            "type": "histogram"
           }
          ],
          "histogram2d": [
           {
            "colorbar": {
             "outlinewidth": 0,
             "ticks": ""
            },
            "colorscale": [
             [
              0,
              "#0d0887"
             ],
             [
              0.1111111111111111,
              "#46039f"
             ],
             [
              0.2222222222222222,
              "#7201a8"
             ],
             [
              0.3333333333333333,
              "#9c179e"
             ],
             [
              0.4444444444444444,
              "#bd3786"
             ],
             [
              0.5555555555555556,
              "#d8576b"
             ],
             [
              0.6666666666666666,
              "#ed7953"
             ],
             [
              0.7777777777777778,
              "#fb9f3a"
             ],
             [
              0.8888888888888888,
              "#fdca26"
             ],
             [
              1,
              "#f0f921"
             ]
            ],
            "type": "histogram2d"
           }
          ],
          "histogram2dcontour": [
           {
            "colorbar": {
             "outlinewidth": 0,
             "ticks": ""
            },
            "colorscale": [
             [
              0,
              "#0d0887"
             ],
             [
              0.1111111111111111,
              "#46039f"
             ],
             [
              0.2222222222222222,
              "#7201a8"
             ],
             [
              0.3333333333333333,
              "#9c179e"
             ],
             [
              0.4444444444444444,
              "#bd3786"
             ],
             [
              0.5555555555555556,
              "#d8576b"
             ],
             [
              0.6666666666666666,
              "#ed7953"
             ],
             [
              0.7777777777777778,
              "#fb9f3a"
             ],
             [
              0.8888888888888888,
              "#fdca26"
             ],
             [
              1,
              "#f0f921"
             ]
            ],
            "type": "histogram2dcontour"
           }
          ],
          "mesh3d": [
           {
            "colorbar": {
             "outlinewidth": 0,
             "ticks": ""
            },
            "type": "mesh3d"
           }
          ],
          "parcoords": [
           {
            "line": {
             "colorbar": {
              "outlinewidth": 0,
              "ticks": ""
             }
            },
            "type": "parcoords"
           }
          ],
          "pie": [
           {
            "automargin": true,
            "type": "pie"
           }
          ],
          "scatter": [
           {
            "fillpattern": {
             "fillmode": "overlay",
             "size": 10,
             "solidity": 0.2
            },
            "type": "scatter"
           }
          ],
          "scatter3d": [
           {
            "line": {
             "colorbar": {
              "outlinewidth": 0,
              "ticks": ""
             }
            },
            "marker": {
             "colorbar": {
              "outlinewidth": 0,
              "ticks": ""
             }
            },
            "type": "scatter3d"
           }
          ],
          "scattercarpet": [
           {
            "marker": {
             "colorbar": {
              "outlinewidth": 0,
              "ticks": ""
             }
            },
            "type": "scattercarpet"
           }
          ],
          "scattergeo": [
           {
            "marker": {
             "colorbar": {
              "outlinewidth": 0,
              "ticks": ""
             }
            },
            "type": "scattergeo"
           }
          ],
          "scattergl": [
           {
            "marker": {
             "colorbar": {
              "outlinewidth": 0,
              "ticks": ""
             }
            },
            "type": "scattergl"
           }
          ],
          "scattermap": [
           {
            "marker": {
             "colorbar": {
              "outlinewidth": 0,
              "ticks": ""
             }
            },
            "type": "scattermap"
           }
          ],
          "scattermapbox": [
           {
            "marker": {
             "colorbar": {
              "outlinewidth": 0,
              "ticks": ""
             }
            },
            "type": "scattermapbox"
           }
          ],
          "scatterpolar": [
           {
            "marker": {
             "colorbar": {
              "outlinewidth": 0,
              "ticks": ""
             }
            },
            "type": "scatterpolar"
           }
          ],
          "scatterpolargl": [
           {
            "marker": {
             "colorbar": {
              "outlinewidth": 0,
              "ticks": ""
             }
            },
            "type": "scatterpolargl"
           }
          ],
          "scatterternary": [
           {
            "marker": {
             "colorbar": {
              "outlinewidth": 0,
              "ticks": ""
             }
            },
            "type": "scatterternary"
           }
          ],
          "surface": [
           {
            "colorbar": {
             "outlinewidth": 0,
             "ticks": ""
            },
            "colorscale": [
             [
              0,
              "#0d0887"
             ],
             [
              0.1111111111111111,
              "#46039f"
             ],
             [
              0.2222222222222222,
              "#7201a8"
             ],
             [
              0.3333333333333333,
              "#9c179e"
             ],
             [
              0.4444444444444444,
              "#bd3786"
             ],
             [
              0.5555555555555556,
              "#d8576b"
             ],
             [
              0.6666666666666666,
              "#ed7953"
             ],
             [
              0.7777777777777778,
              "#fb9f3a"
             ],
             [
              0.8888888888888888,
              "#fdca26"
             ],
             [
              1,
              "#f0f921"
             ]
            ],
            "type": "surface"
           }
          ],
          "table": [
           {
            "cells": {
             "fill": {
              "color": "#EBF0F8"
             },
             "line": {
              "color": "white"
             }
            },
            "header": {
             "fill": {
              "color": "#C8D4E3"
             },
             "line": {
              "color": "white"
             }
            },
            "type": "table"
           }
          ]
         },
         "layout": {
          "annotationdefaults": {
           "arrowcolor": "#2a3f5f",
           "arrowhead": 0,
           "arrowwidth": 1
          },
          "autotypenumbers": "strict",
          "coloraxis": {
           "colorbar": {
            "outlinewidth": 0,
            "ticks": ""
           }
          },
          "colorscale": {
           "diverging": [
            [
             0,
             "#8e0152"
            ],
            [
             0.1,
             "#c51b7d"
            ],
            [
             0.2,
             "#de77ae"
            ],
            [
             0.3,
             "#f1b6da"
            ],
            [
             0.4,
             "#fde0ef"
            ],
            [
             0.5,
             "#f7f7f7"
            ],
            [
             0.6,
             "#e6f5d0"
            ],
            [
             0.7,
             "#b8e186"
            ],
            [
             0.8,
             "#7fbc41"
            ],
            [
             0.9,
             "#4d9221"
            ],
            [
             1,
             "#276419"
            ]
           ],
           "sequential": [
            [
             0,
             "#0d0887"
            ],
            [
             0.1111111111111111,
             "#46039f"
            ],
            [
             0.2222222222222222,
             "#7201a8"
            ],
            [
             0.3333333333333333,
             "#9c179e"
            ],
            [
             0.4444444444444444,
             "#bd3786"
            ],
            [
             0.5555555555555556,
             "#d8576b"
            ],
            [
             0.6666666666666666,
             "#ed7953"
            ],
            [
             0.7777777777777778,
             "#fb9f3a"
            ],
            [
             0.8888888888888888,
             "#fdca26"
            ],
            [
             1,
             "#f0f921"
            ]
           ],
           "sequentialminus": [
            [
             0,
             "#0d0887"
            ],
            [
             0.1111111111111111,
             "#46039f"
            ],
            [
             0.2222222222222222,
             "#7201a8"
            ],
            [
             0.3333333333333333,
             "#9c179e"
            ],
            [
             0.4444444444444444,
             "#bd3786"
            ],
            [
             0.5555555555555556,
             "#d8576b"
            ],
            [
             0.6666666666666666,
             "#ed7953"
            ],
            [
             0.7777777777777778,
             "#fb9f3a"
            ],
            [
             0.8888888888888888,
             "#fdca26"
            ],
            [
             1,
             "#f0f921"
            ]
           ]
          },
          "colorway": [
           "#636efa",
           "#EF553B",
           "#00cc96",
           "#ab63fa",
           "#FFA15A",
           "#19d3f3",
           "#FF6692",
           "#B6E880",
           "#FF97FF",
           "#FECB52"
          ],
          "font": {
           "color": "#2a3f5f"
          },
          "geo": {
           "bgcolor": "white",
           "lakecolor": "white",
           "landcolor": "#E5ECF6",
           "showlakes": true,
           "showland": true,
           "subunitcolor": "white"
          },
          "hoverlabel": {
           "align": "left"
          },
          "hovermode": "closest",
          "mapbox": {
           "style": "light"
          },
          "paper_bgcolor": "white",
          "plot_bgcolor": "#E5ECF6",
          "polar": {
           "angularaxis": {
            "gridcolor": "white",
            "linecolor": "white",
            "ticks": ""
           },
           "bgcolor": "#E5ECF6",
           "radialaxis": {
            "gridcolor": "white",
            "linecolor": "white",
            "ticks": ""
           }
          },
          "scene": {
           "xaxis": {
            "backgroundcolor": "#E5ECF6",
            "gridcolor": "white",
            "gridwidth": 2,
            "linecolor": "white",
            "showbackground": true,
            "ticks": "",
            "zerolinecolor": "white"
           },
           "yaxis": {
            "backgroundcolor": "#E5ECF6",
            "gridcolor": "white",
            "gridwidth": 2,
            "linecolor": "white",
            "showbackground": true,
            "ticks": "",
            "zerolinecolor": "white"
           },
           "zaxis": {
            "backgroundcolor": "#E5ECF6",
            "gridcolor": "white",
            "gridwidth": 2,
            "linecolor": "white",
            "showbackground": true,
            "ticks": "",
            "zerolinecolor": "white"
           }
          },
          "shapedefaults": {
           "line": {
            "color": "#2a3f5f"
           }
          },
          "ternary": {
           "aaxis": {
            "gridcolor": "white",
            "linecolor": "white",
            "ticks": ""
           },
           "baxis": {
            "gridcolor": "white",
            "linecolor": "white",
            "ticks": ""
           },
           "bgcolor": "#E5ECF6",
           "caxis": {
            "gridcolor": "white",
            "linecolor": "white",
            "ticks": ""
           }
          },
          "title": {
           "x": 0.05
          },
          "xaxis": {
           "automargin": true,
           "gridcolor": "white",
           "linecolor": "white",
           "ticks": "",
           "title": {
            "standoff": 15
           },
           "zerolinecolor": "white",
           "zerolinewidth": 2
          },
          "yaxis": {
           "automargin": true,
           "gridcolor": "white",
           "linecolor": "white",
           "ticks": "",
           "title": {
            "standoff": 15
           },
           "zerolinecolor": "white",
           "zerolinewidth": 2
          }
         }
        },
        "title": {
         "text": "Average Rainfall by 2 Decades"
        },
        "width": 1000,
        "xaxis": {
         "anchor": "y",
         "domain": [
          0,
          1
         ],
         "title": {
          "text": "Months"
         }
        },
        "yaxis": {
         "anchor": "x",
         "domain": [
          0,
          1
         ],
         "title": {
          "text": "Months"
         }
        }
       }
      }
     },
     "metadata": {},
     "output_type": "display_data"
    }
   ],
   "source": [
    "import plotly.express as px\n",
    "fig=px.line(\n",
    "   df_melt,\n",
    "   x='Month',\n",
    "   y='Rainfall',\n",
    "   color='20_Gap',\n",
    "   markers=True,\n",
    "   hover_name='20_Gap',\n",
    "   hover_data={'Rainfall': True, 'Month':True}\n",
    ")\n",
    "\n",
    "fig.update_layout(\n",
    "   title='Average Rainfall by 2 Decades',\n",
    "   xaxis_title='Months',\n",
    "   yaxis_title='Months',\n",
    "   width=1000,\n",
    "   height=600\n",
    ")\n",
    "\n",
    "fig.show()"
   ]
  },
  {
   "cell_type": "code",
   "execution_count": 8,
   "id": "98d8b8e9",
   "metadata": {},
   "outputs": [
    {
     "data": {
      "text/html": [
       "<div>\n",
       "<style scoped>\n",
       "    .dataframe tbody tr th:only-of-type {\n",
       "        vertical-align: middle;\n",
       "    }\n",
       "\n",
       "    .dataframe tbody tr th {\n",
       "        vertical-align: top;\n",
       "    }\n",
       "\n",
       "    .dataframe thead th {\n",
       "        text-align: right;\n",
       "    }\n",
       "</style>\n",
       "<table border=\"1\" class=\"dataframe\">\n",
       "  <thead>\n",
       "    <tr style=\"text-align: right;\">\n",
       "      <th></th>\n",
       "      <th>Month</th>\n",
       "      <th>20_Gap</th>\n",
       "      <th>Rainfall</th>\n",
       "    </tr>\n",
       "  </thead>\n",
       "  <tbody>\n",
       "    <tr>\n",
       "      <th>0</th>\n",
       "      <td>Jan</td>\n",
       "      <td>1900</td>\n",
       "      <td>6.68</td>\n",
       "    </tr>\n",
       "    <tr>\n",
       "      <th>1</th>\n",
       "      <td>Feb</td>\n",
       "      <td>1900</td>\n",
       "      <td>8.80</td>\n",
       "    </tr>\n",
       "    <tr>\n",
       "      <th>2</th>\n",
       "      <td>Mar</td>\n",
       "      <td>1900</td>\n",
       "      <td>11.88</td>\n",
       "    </tr>\n",
       "    <tr>\n",
       "      <th>3</th>\n",
       "      <td>April</td>\n",
       "      <td>1900</td>\n",
       "      <td>27.76</td>\n",
       "    </tr>\n",
       "    <tr>\n",
       "      <th>4</th>\n",
       "      <td>May</td>\n",
       "      <td>1900</td>\n",
       "      <td>26.98</td>\n",
       "    </tr>\n",
       "    <tr>\n",
       "      <th>5</th>\n",
       "      <td>June</td>\n",
       "      <td>1900</td>\n",
       "      <td>113.15</td>\n",
       "    </tr>\n",
       "    <tr>\n",
       "      <th>6</th>\n",
       "      <td>July</td>\n",
       "      <td>1900</td>\n",
       "      <td>162.91</td>\n",
       "    </tr>\n",
       "    <tr>\n",
       "      <th>7</th>\n",
       "      <td>Aug</td>\n",
       "      <td>1900</td>\n",
       "      <td>146.70</td>\n",
       "    </tr>\n",
       "    <tr>\n",
       "      <th>8</th>\n",
       "      <td>Sept</td>\n",
       "      <td>1900</td>\n",
       "      <td>176.56</td>\n",
       "    </tr>\n",
       "    <tr>\n",
       "      <th>9</th>\n",
       "      <td>Oct</td>\n",
       "      <td>1900</td>\n",
       "      <td>79.95</td>\n",
       "    </tr>\n",
       "    <tr>\n",
       "      <th>10</th>\n",
       "      <td>Nov</td>\n",
       "      <td>1900</td>\n",
       "      <td>24.61</td>\n",
       "    </tr>\n",
       "    <tr>\n",
       "      <th>11</th>\n",
       "      <td>Dec</td>\n",
       "      <td>1900</td>\n",
       "      <td>7.35</td>\n",
       "    </tr>\n",
       "    <tr>\n",
       "      <th>12</th>\n",
       "      <td>Jan</td>\n",
       "      <td>1920</td>\n",
       "      <td>12.27</td>\n",
       "    </tr>\n",
       "    <tr>\n",
       "      <th>13</th>\n",
       "      <td>Feb</td>\n",
       "      <td>1920</td>\n",
       "      <td>11.22</td>\n",
       "    </tr>\n",
       "    <tr>\n",
       "      <th>14</th>\n",
       "      <td>Mar</td>\n",
       "      <td>1920</td>\n",
       "      <td>10.70</td>\n",
       "    </tr>\n",
       "    <tr>\n",
       "      <th>15</th>\n",
       "      <td>April</td>\n",
       "      <td>1920</td>\n",
       "      <td>28.83</td>\n",
       "    </tr>\n",
       "    <tr>\n",
       "      <th>16</th>\n",
       "      <td>May</td>\n",
       "      <td>1920</td>\n",
       "      <td>25.04</td>\n",
       "    </tr>\n",
       "    <tr>\n",
       "      <th>17</th>\n",
       "      <td>June</td>\n",
       "      <td>1920</td>\n",
       "      <td>93.79</td>\n",
       "    </tr>\n",
       "    <tr>\n",
       "      <th>18</th>\n",
       "      <td>July</td>\n",
       "      <td>1920</td>\n",
       "      <td>162.62</td>\n",
       "    </tr>\n",
       "    <tr>\n",
       "      <th>19</th>\n",
       "      <td>Aug</td>\n",
       "      <td>1920</td>\n",
       "      <td>122.66</td>\n",
       "    </tr>\n",
       "    <tr>\n",
       "      <th>20</th>\n",
       "      <td>Sept</td>\n",
       "      <td>1920</td>\n",
       "      <td>149.38</td>\n",
       "    </tr>\n",
       "    <tr>\n",
       "      <th>21</th>\n",
       "      <td>Oct</td>\n",
       "      <td>1920</td>\n",
       "      <td>75.10</td>\n",
       "    </tr>\n",
       "    <tr>\n",
       "      <th>22</th>\n",
       "      <td>Nov</td>\n",
       "      <td>1920</td>\n",
       "      <td>35.38</td>\n",
       "    </tr>\n",
       "    <tr>\n",
       "      <th>23</th>\n",
       "      <td>Dec</td>\n",
       "      <td>1920</td>\n",
       "      <td>5.21</td>\n",
       "    </tr>\n",
       "    <tr>\n",
       "      <th>24</th>\n",
       "      <td>Jan</td>\n",
       "      <td>1940</td>\n",
       "      <td>0.49</td>\n",
       "    </tr>\n",
       "  </tbody>\n",
       "</table>\n",
       "</div>"
      ],
      "text/plain": [
       "    Month 20_Gap  Rainfall\n",
       "0     Jan   1900      6.68\n",
       "1     Feb   1900      8.80\n",
       "2     Mar   1900     11.88\n",
       "3   April   1900     27.76\n",
       "4     May   1900     26.98\n",
       "5    June   1900    113.15\n",
       "6    July   1900    162.91\n",
       "7     Aug   1900    146.70\n",
       "8    Sept   1900    176.56\n",
       "9     Oct   1900     79.95\n",
       "10    Nov   1900     24.61\n",
       "11    Dec   1900      7.35\n",
       "12    Jan   1920     12.27\n",
       "13    Feb   1920     11.22\n",
       "14    Mar   1920     10.70\n",
       "15  April   1920     28.83\n",
       "16    May   1920     25.04\n",
       "17   June   1920     93.79\n",
       "18   July   1920    162.62\n",
       "19    Aug   1920    122.66\n",
       "20   Sept   1920    149.38\n",
       "21    Oct   1920     75.10\n",
       "22    Nov   1920     35.38\n",
       "23    Dec   1920      5.21\n",
       "24    Jan   1940      0.49"
      ]
     },
     "execution_count": 8,
     "metadata": {},
     "output_type": "execute_result"
    }
   ],
   "source": [
    "df_melt.head(25)"
   ]
  },
  {
   "cell_type": "code",
   "execution_count": 9,
   "id": "43276873",
   "metadata": {},
   "outputs": [
    {
     "name": "stdout",
     "output_type": "stream",
     "text": [
      "Average rainfall in January from 1901-2020: 6.5268561183719\n",
      "Average rainfall in February from 1901-2020: 7.886726944024794\n",
      "Average rainfall in March from 1901-2020: 12.788949790909093\n",
      "Average rainfall in April from 1901-2020: 22.67243058266942\n",
      "Average rainfall in May from 1901-2020: 28.00139551055372\n",
      "Average rainfall in June from 1901-2020: 107.83380411008262\n",
      "Average rainfall in July from 1901-2020: 163.8993655590083\n",
      "Average rainfall in August from 1901-2020: 157.34340746024793\n",
      "Average rainfall in September from 1901-2020: 163.82238486140497\n",
      "Average rainfall in October from 1901-2020: 91.46731507523141\n",
      "Average rainfall in November from 1901-2020: 25.135511989661154\n",
      "Average rainfall in December from 1901-2020: 5.268676448900826\n"
     ]
    }
   ],
   "source": [
    "#Q-1 what is the average montlhy rainfall\n",
    "\n",
    "df.drop(columns=['20_Gap'], axis=1, inplace=True)\n",
    "months_map = {\n",
    "    \"Jan\": \"January\",\n",
    "    \"Feb\": \"February\",\n",
    "    \"Mar\": \"March\",\n",
    "    \"April\": \"April\",\n",
    "    \"May\": \"May\",\n",
    "    \"June\": \"June\",\n",
    "    \"July\": \"July\",\n",
    "    \"Aug\": \"August\",\n",
    "    \"Sept\": \"September\",\n",
    "    \"Oct\": \"October\",\n",
    "    \"Nov\": \"November\",\n",
    "    \"Dec\": \"December\"\n",
    "}\n",
    "\n",
    "for col in df.columns:\n",
    "   if col !='Year' and col!='Total':\n",
    "       Avg=np.average(df[col])\n",
    "       print(f\"Average rainfall in {months_map[col]} from 1901-2020: {Avg}\")\n"
   ]
  },
  {
   "cell_type": "code",
   "execution_count": 10,
   "id": "adf66f75",
   "metadata": {},
   "outputs": [
    {
     "name": "stdout",
     "output_type": "stream",
     "text": [
      "Wettest decade: 2020 with avg 1120.09 mm\n",
      "Driest decade: 1920 with avg 732.19 mm\n"
     ]
    }
   ],
   "source": [
    "#Q-2 Wettest and Driest \n",
    "\n",
    "user_yr = int(\n",
    "    input(\n",
    "        \"Please enter a number to select the time span for analyzing wettest and driest spells:\\n\"\n",
    "        \"  5  → Half Decade\\n\"\n",
    "        \" 10  → Decade\\n\"\n",
    "        \" 20  → Two Decades\\n\"\n",
    "        \"Your choice: \"\n",
    "    )\n",
    ")\n",
    "df_usr = df\n",
    "if user_yr == 5:\n",
    "    df_usr[\"half_decade\"] = (df_usr[\"Year\"] // 5) * 5\n",
    "    hlfdcd_Avg = df_usr.groupby(\"half_decade\")[\"Total\"].mean().round(2)\n",
    "\n",
    "    wettest_dec = hlfdcd_Avg.idxmax()\n",
    "    wettest_val = hlfdcd_Avg.max()\n",
    "\n",
    "    driest_dec = hlfdcd_Avg.idxmin()\n",
    "    driest_val = hlfdcd_Avg.min()\n",
    "\n",
    "elif user_yr == 5:\n",
    "    df_usr[\"decade\"] = (df_usr[\"Year\"] // 10) * 10\n",
    "    deacde_avg = df_usr.groupby(\"decade\")[\"Total\"].mean().round(2)\n",
    "\n",
    "    wettest_dec = deacde_avg.idxmax()\n",
    "    wettest_val = deacde_avg.max()\n",
    "\n",
    "    driest_dec = deacde_avg.idxmin()\n",
    "    driest_val = deacde_avg.min()\n",
    "\n",
    "\n",
    "else:\n",
    "    df_usr[\"TwoDecade\"] = (df_usr[\"Year\"] // 20) * 20\n",
    "    twice_dcd = df_usr.groupby(\"TwoDecade\")[\"Total\"].mean().round(2)\n",
    "\n",
    "    wettest_dec = twice_dcd.idxmax()\n",
    "    wettest_val = twice_dcd.max()\n",
    "\n",
    "    driest_dec = twice_dcd.idxmin()\n",
    "    driest_val = twice_dcd.min()\n",
    "\n",
    "print(f\"Wettest decade: {wettest_dec} with avg {wettest_val:.2f} mm\")\n",
    "print(f\"Driest decade: {driest_dec} with avg {driest_val:.2f} mm\")"
   ]
  },
  {
   "cell_type": "code",
   "execution_count": 11,
   "id": "4e6c1fb8",
   "metadata": {},
   "outputs": [
    {
     "data": {
      "image/png": "[encoded data removed]",
      "text/plain": [
       "<Figure size 1200x600 with 1 Axes>"
      ]
     },
     "metadata": {},
     "output_type": "display_data"
    }
   ],
   "source": [
    "#Q-3 Are there any months with highly unpredictable rainfall?\n",
    "stds={}\n",
    "for col in monthly_cols:\n",
    "   stds[col]=df[col].std()\n",
    "\n",
    "sorted_stds = sorted(stds.items(), key=lambda x: x[1], reverse=True)\n",
    "\n",
    "std_values = [stds[col] for col in monthly_cols]\n",
    "\n",
    "plt.figure(figsize=(12,6))\n",
    "plt.title(\"Months with Higly unpredictablity\")\n",
    "plt.scatter(monthly_cols, std_values, color='green', marker='+')\n",
    "plt.xlabel('Month')\n",
    "plt.ylabel('Std Dev Value')\n",
    "plt.show()"
   ]
  },
  {
   "cell_type": "code",
   "execution_count": 12,
   "id": "db14c41b",
   "metadata": {},
   "outputs": [
    {
     "data": {
      "application/vnd.plotly.v1+json": {
       "config": {
        "plotlyServerURL": "https://plot.ly"
       },
       "data": [
        {
         "hovertemplate": "Year=%{x}<br>Total=%{y}<extra></extra>",
         "legendgroup": "",
         "marker": {
          "color": "#636efa",
          "symbol": "circle"
         },
         "mode": "markers",
         "name": "",
         "orientation": "v",
         "showlegend": false,
         "type": "scatter",
         "x": {
          "bdata": "bQduB28HcAdxB3IHcwd0B3UHdgd3B3gHeQd6B3sHfAd9B34HfweAB4EHggeDB4QHhQeGB4cHiAeJB4oHiweMB40HjgePB5AHkQeSB5MHlAeVB5YHlweYB5kHmgebB5wHnQeeB58HoAehB6IHowekB6UHpgenB6gHqQeqB6sHrAetB64HrwewB7EHsgezB7QHtQe2B7cHuAe5B7oHuwe8B70Hvge/B8AHwQfCB8MHxAfFB8YHxwfIB8kHygfLB8wHzQfOB88H0AfRB9IH0wfUB9UH1gfXB9gH2QfaB9sH3AfdB94H3wfgB+EH4gfjB+QH5Qc=",
          "dtype": "i2"
         },
         "xaxis": "x",
         "y": {
          "bdata": "KE5JMdu6hkDCwd7EYAuDQNvDXijA95NA7do5KIzOgUB4msx4CwCCQMVf7u78TIlATRmTWXhBiEAdd6XAXe6LQJ0+TAzTmYVAZDCQscSdhUAtwC0OLUiAQAU3rW+7RINAxjU+kz1TfUAk21Q4PQ6OQLG/7J6MkZNAqDej5ov3kkAdeBCWvAaMQLNpW4NdtYBAwmj7/Ly8jkCAJfz3RaeDQDlPKzuDuYZACd3KtwPtfkBQx2MGyuqCQPA/6I8/Q4lAokuTrcm1i0CDM/j7FW2CQKTdjaorCI5AbZRQVcwKiUDG9v8WqXuCQLHCLR95ioRAZziv+4jhjkC2W9yQ0PeBQBcplIWvPZFAQW0KGrnRgkCkVMITypGFQCJ2AYrMIIpAdeTtrR0EiEDk7hjDIdmGQBGKraBZpoJAadg5F5DbhkAVY6qq4ap7QFwf1hu1HIJAIMVKFgHTiEC+NKA5FoiKQETZABFXeIhAxbQlYXUzgkAdpPFVjFiLQBy/pr0nEYVAJl3pa/wrgUDOpV3xOS6LQONrdHNmQIhAmkqaml+RfkCOzlTjYKuKQO989afjqolAwmnBi/7Bj0Cb7cDvhV6IQAZ4HFCAxIRAkmLb/TXMikCAZaVJaQaLQL9ZlCOuAIdAstwtJPscjkBaDvRQK6GQQCiqbXnLjYhAt1VakIeNiEB3WJcJlbaDQPhahu6I5oVA94Nwu3b/iEBCGyVUJbOEQCzT1Fc8eoRAHrepy3MqjEDPDl31ZdGDQFwbKsY573tAngzpSwrZi0CML9rjJVeJQNtRnKNO2pFAis6NRENJiUCTeNTz6QKFQASr6uXnlpBA63gn+mfhhEB/OnnssruBQMqyFlVFI45AYY4evzd9iUD4b16cSO2TQMBBe/URw4VA4owGlT0ygUB3m9yUN1WFQAw89x7ulo5A8BJBQa7liUBeZAJ+nR2LQPsTpjmjJY5AP6fFhcghikCd45KZkfGDQLg6pSjcCoVAkkpnFofCiEAv+DQnPzmSQHZ6lABrzI1A6N7DJUdviECT9xZ7JHqLQDsGv2hKvYBAO3MPCb/6jUBCqs2kwg6JQJabA198KoNAi+w5n6DAh0AXpd8ZeO2FQNbkKatJNJJA8kweBa6fjUAxbUlY9SSIQKxY/KYgCpJAf3p99yiQhED1vvG1Zz+SQBpqFJJsQIJAzCK5oS73hkDRksfTktKPQMi/hSs26INAAy0TNHw4g0A4SIjy1XSQQIpVgzAHOpBAlOgbh0DSgUCdjUsL7UyLQLnhd9NdQZNAWwhyUKJ+j0A=",
          "dtype": "f8"
         },
         "yaxis": "y"
        },
        {
         "hovertemplate": "<b>OLS trendline</b><br>Total = 1.11616 * Year + -1396.15<br>R<sup>2</sup>=0.039995<br><br>Year=%{x}<br>Total=%{y} <b>(trend)</b><extra></extra>",
         "legendgroup": "",
         "line": {
          "color": "purple"
         },
         "marker": {
          "color": "#636efa",
          "symbol": "circle"
         },
         "mode": "lines",
         "name": "",
         "showlegend": false,
         "type": "scatter",
         "x": {
          "bdata": "bQduB28HcAdxB3IHcwd0B3UHdgd3B3gHeQd6B3sHfAd9B34HfweAB4EHggeDB4QHhQeGB4cHiAeJB4oHiweMB40HjgePB5AHkQeSB5MHlAeVB5YHlweYB5kHmgebB5wHnQeeB58HoAehB6IHowekB6UHpgenB6gHqQeqB6sHrAetB64HrwewB7EHsgezB7QHtQe2B7cHuAe5B7oHuwe8B70Hvge/B8AHwQfCB8MHxAfFB8YHxwfIB8kHygfLB8wHzQfOB88H0AfRB9IH0wfUB9UH1gfXB9gH2QfaB9sH3AfdB94H3wfgB+EH4gfjB+QH5Qc=",
          "dtype": "i2"
         },
         "xaxis": "x",
         "y": {
          "bdata": "zPbYyWqthkCo7NqvWLaGQIji3JVGv4ZAaNjeezTIhkBEzuBhItGGQCTE4kcQ2oZAALrkLf7ihkDgr+YT7OuGQMCl6PnZ9IZAnJvq38f9hkB8kezFtQaHQFyH7qujD4dAOH3wkZEYh0AYc/J3fyGHQPRo9F1tKodA1F72Q1szh0C0VPgpSTyHQJBK+g83RYdAcED89SROh0BQNv7bEleHQCwsAMIAYIdADCICqO5oh0DoFwSO3HGHQMgNBnTKeodAqAMIWriDh0CE+QlApoyHQGTvCyaUlYdAROUNDIKeh0Ag2w/yb6eHQADREdhdsIdA3MYTvku5h0C8vBWkOcKHQJyyF4ony4dAeKgZcBXUh0BYnhtWA92HQDiUHTzx5YdAFIofIt/uh0D0fyEIzfeHQNR1I+66AIhAsGsl1KgJiECQYSe6lhKIQGxXKaCEG4hATE0rhnIkiEAsQy1sYC2IQAg5L1JONohA6C4xODw/iEDIJDMeKkiIQKQaNQQYUYhAhBA36gVaiEBgBjnQ82KIQED8Orbha4hAIPI8nM90iED85z6CvX2IQNzdQGirhohAvNNCTpmPiECYyUQ0h5iIQHi/Rhp1oYhAVLVIAGOqiEA0q0rmULOIQBShTMw+vIhA8JZOsizFiEDQjFCYGs6IQLCCUn4I14hAjHhUZPbfiEBsblZK5OiIQEhkWDDS8YhAKFpaFsD6iEAIUFz8rQOJQORFXuKbDIlAxDtgyIkViUCkMWKudx6JQIAnZJRlJ4lAYB1melMwiUA8E2hgQTmJQBwJakYvQolA/P5rLB1LiUDY9G0SC1SJQLjqb/j4XIlAmOBx3uZliUB01nPE1G6JQFTMdarCd4lANMJ3kLCAiUAQuHl2nomJQPCte1yMkolAzKN9QnqbiUCsmX8oaKSJQIyPgQ5WrYlAaIWD9EO2iUBIe4XaMb+JQChxh8AfyIlABGeJpg3RiUDkXIuM+9mJQMBSjXLp4olAoEiPWNfriUCAPpE+xfSJQFw0kySz/YlAPCqVCqEGikAcIJfwjg+KQPgVmdZ8GIpA2AubvGohikC0AZ2iWCqKQJT3nohGM4pAdO2gbjQ8ikBQ46JUIkWKQDDZpDoQTopAEM+mIP5WikDsxKgG7F+KQMy6quzZaIpAqLCs0sdxikCIpq64tXqKQGicsJ6jg4pARJKyhJGMikAkiLRqf5WKQAR+tlBtnopA4HO4NlunikDAabocSbCKQKBfvAI3uYpAfFW+6CTCikBcS8DOEsuKQDhBwrQA1IpAGDfEmu7cikA=",
          "dtype": "f8"
         },
         "yaxis": "y"
        }
       ],
       "layout": {
        "height": 600,
        "legend": {
         "tracegroupgap": 0
        },
        "margin": {
         "t": 60
        },
        "template": {
         "data": {
          "bar": [
           {
            "error_x": {
             "color": "#2a3f5f"
            },
            "error_y": {
             "color": "#2a3f5f"
            },
            "marker": {
             "line": {
              "color": "#E5ECF6",
              "width": 0.5
             },
             "pattern": {
              "fillmode": "overlay",
              "size": 10,
              "solidity": 0.2
             }
            },
            "type": "bar"
           }
          ],
          "barpolar": [
           {
            "marker": {
             "line": {
              "color": "#E5ECF6",
              "width": 0.5
             },
             "pattern": {
              "fillmode": "overlay",
              "size": 10,
              "solidity": 0.2
             }
            },
            "type": "barpolar"
           }
          ],
          "carpet": [
           {
            "aaxis": {
             "endlinecolor": "#2a3f5f",
             "gridcolor": "white",
             "linecolor": "white",
             "minorgridcolor": "white",
             "startlinecolor": "#2a3f5f"
            },
            "baxis": {
             "endlinecolor": "#2a3f5f",
             "gridcolor": "white",
             "linecolor": "white",
             "minorgridcolor": "white",
             "startlinecolor": "#2a3f5f"
            },
            "type": "carpet"
           }
          ],
          "choropleth": [
           {
            "colorbar": {
             "outlinewidth": 0,
             "ticks": ""
            },
            "type": "choropleth"
           }
          ],
          "contour": [
           {
            "colorbar": {
             "outlinewidth": 0,
             "ticks": ""
            },
            "colorscale": [
             [
              0,
              "#0d0887"
             ],
             [
              0.1111111111111111,
              "#46039f"
             ],
             [
              0.2222222222222222,
              "#7201a8"
             ],
             [
              0.3333333333333333,
              "#9c179e"
             ],
             [
              0.4444444444444444,
              "#bd3786"
             ],
             [
              0.5555555555555556,
              "#d8576b"
             ],
             [
              0.6666666666666666,
              "#ed7953"
             ],
             [
              0.7777777777777778,
              "#fb9f3a"
             ],
             [
              0.8888888888888888,
              "#fdca26"
             ],
             [
              1,
              "#f0f921"
             ]
            ],
            "type": "contour"
           }
          ],
          "contourcarpet": [
           {
            "colorbar": {
             "outlinewidth": 0,
             "ticks": ""
            },
            "type": "contourcarpet"
           }
          ],
          "heatmap": [
           {
            "colorbar": {
             "outlinewidth": 0,
             "ticks": ""
            },
            "colorscale": [
             [
              0,
              "#0d0887"
             ],
             [
              0.1111111111111111,
              "#46039f"
             ],
             [
              0.2222222222222222,
              "#7201a8"
             ],
             [
              0.3333333333333333,
              "#9c179e"
             ],
             [
              0.4444444444444444,
              "#bd3786"
             ],
             [
              0.5555555555555556,
              "#d8576b"
             ],
             [
              0.6666666666666666,
              "#ed7953"
             ],
             [
              0.7777777777777778,
              "#fb9f3a"
             ],
             [
              0.8888888888888888,
              "#fdca26"
             ],
             [
              1,
              "#f0f921"
             ]
            ],
            "type": "heatmap"
           }
          ],
          "histogram": [
           {
            "marker": {
             "pattern": {
              "fillmode": "overlay",
              "size": 10,
              "solidity": 0.2
             }
            },
            "type": "histogram"
           }
          ],
          "histogram2d": [
           {
            "colorbar": {
             "outlinewidth": 0,
             "ticks": ""
            },
            "colorscale": [
             [
              0,
              "#0d0887"
             ],
             [
              0.1111111111111111,
              "#46039f"
             ],
             [
              0.2222222222222222,
              "#7201a8"
             ],
             [
              0.3333333333333333,
              "#9c179e"
             ],
             [
              0.4444444444444444,
              "#bd3786"
             ],
             [
              0.5555555555555556,
              "#d8576b"
             ],
             [
              0.6666666666666666,
              "#ed7953"
             ],
             [
              0.7777777777777778,
              "#fb9f3a"
             ],
             [
              0.8888888888888888,
              "#fdca26"
             ],
             [
              1,
              "#f0f921"
             ]
            ],
            "type": "histogram2d"
           }
          ],
          "histogram2dcontour": [
           {
            "colorbar": {
             "outlinewidth": 0,
             "ticks": ""
            },
            "colorscale": [
             [
              0,
              "#0d0887"
             ],
             [
              0.1111111111111111,
              "#46039f"
             ],
             [
              0.2222222222222222,
              "#7201a8"
             ],
             [
              0.3333333333333333,
              "#9c179e"
             ],
             [
              0.4444444444444444,
              "#bd3786"
             ],
             [
              0.5555555555555556,
              "#d8576b"
             ],
             [
              0.6666666666666666,
              "#ed7953"
             ],
             [
              0.7777777777777778,
              "#fb9f3a"
             ],
             [
              0.8888888888888888,
              "#fdca26"
             ],
             [
              1,
              "#f0f921"
             ]
            ],
            "type": "histogram2dcontour"
           }
          ],
          "mesh3d": [
           {
            "colorbar": {
             "outlinewidth": 0,
             "ticks": ""
            },
            "type": "mesh3d"
           }
          ],
          "parcoords": [
           {
            "line": {
             "colorbar": {
              "outlinewidth": 0,
              "ticks": ""
             }
            },
            "type": "parcoords"
           }
          ],
          "pie": [
           {
            "automargin": true,
            "type": "pie"
           }
          ],
          "scatter": [
           {
            "fillpattern": {
             "fillmode": "overlay",
             "size": 10,
             "solidity": 0.2
            },
            "type": "scatter"
           }
          ],
          "scatter3d": [
           {
            "line": {
             "colorbar": {
              "outlinewidth": 0,
              "ticks": ""
             }
            },
            "marker": {
             "colorbar": {
              "outlinewidth": 0,
              "ticks": ""
             }
            },
            "type": "scatter3d"
           }
          ],
          "scattercarpet": [
           {
            "marker": {
             "colorbar": {
              "outlinewidth": 0,
              "ticks": ""
             }
            },
            "type": "scattercarpet"
           }
          ],
          "scattergeo": [
           {
            "marker": {
             "colorbar": {
              "outlinewidth": 0,
              "ticks": ""
             }
            },
            "type": "scattergeo"
           }
          ],
          "scattergl": [
           {
            "marker": {
             "colorbar": {
              "outlinewidth": 0,
              "ticks": ""
             }
            },
            "type": "scattergl"
           }
          ],
          "scattermap": [
           {
            "marker": {
             "colorbar": {
              "outlinewidth": 0,
              "ticks": ""
             }
            },
            "type": "scattermap"
           }
          ],
          "scattermapbox": [
           {
            "marker": {
             "colorbar": {
              "outlinewidth": 0,
              "ticks": ""
             }
            },
            "type": "scattermapbox"
           }
          ],
          "scatterpolar": [
           {
            "marker": {
             "colorbar": {
              "outlinewidth": 0,
              "ticks": ""
             }
            },
            "type": "scatterpolar"
           }
          ],
          "scatterpolargl": [
           {
            "marker": {
             "colorbar": {
              "outlinewidth": 0,
              "ticks": ""
             }
            },
            "type": "scatterpolargl"
           }
          ],
          "scatterternary": [
           {
            "marker": {
             "colorbar": {
              "outlinewidth": 0,
              "ticks": ""
             }
            },
            "type": "scatterternary"
           }
          ],
          "surface": [
           {
            "colorbar": {
             "outlinewidth": 0,
             "ticks": ""
            },
            "colorscale": [
             [
              0,
              "#0d0887"
             ],
             [
              0.1111111111111111,
              "#46039f"
             ],
             [
              0.2222222222222222,
              "#7201a8"
             ],
             [
              0.3333333333333333,
              "#9c179e"
             ],
             [
              0.4444444444444444,
              "#bd3786"
             ],
             [
              0.5555555555555556,
              "#d8576b"
             ],
             [
              0.6666666666666666,
              "#ed7953"
             ],
             [
              0.7777777777777778,
              "#fb9f3a"
             ],
             [
              0.8888888888888888,
              "#fdca26"
             ],
             [
              1,
              "#f0f921"
             ]
            ],
            "type": "surface"
           }
          ],
          "table": [
           {
            "cells": {
             "fill": {
              "color": "#EBF0F8"
             },
             "line": {
              "color": "white"
             }
            },
            "header": {
             "fill": {
              "color": "#C8D4E3"
             },
             "line": {
              "color": "white"
             }
            },
            "type": "table"
           }
          ]
         },
         "layout": {
          "annotationdefaults": {
           "arrowcolor": "#2a3f5f",
           "arrowhead": 0,
           "arrowwidth": 1
          },
          "autotypenumbers": "strict",
          "coloraxis": {
           "colorbar": {
            "outlinewidth": 0,
            "ticks": ""
           }
          },
          "colorscale": {
           "diverging": [
            [
             0,
             "#8e0152"
            ],
            [
             0.1,
             "#c51b7d"
            ],
            [
             0.2,
             "#de77ae"
            ],
            [
             0.3,
             "#f1b6da"
            ],
            [
             0.4,
             "#fde0ef"
            ],
            [
             0.5,
             "#f7f7f7"
            ],
            [
             0.6,
             "#e6f5d0"
            ],
            [
             0.7,
             "#b8e186"
            ],
            [
             0.8,
             "#7fbc41"
            ],
            [
             0.9,
             "#4d9221"
            ],
            [
             1,
             "#276419"
            ]
           ],
           "sequential": [
            [
             0,
             "#0d0887"
            ],
            [
             0.1111111111111111,
             "#46039f"
            ],
            [
             0.2222222222222222,
             "#7201a8"
            ],
            [
             0.3333333333333333,
             "#9c179e"
            ],
            [
             0.4444444444444444,
             "#bd3786"
            ],
            [
             0.5555555555555556,
             "#d8576b"
            ],
            [
             0.6666666666666666,
             "#ed7953"
            ],
            [
             0.7777777777777778,
             "#fb9f3a"
            ],
            [
             0.8888888888888888,
             "#fdca26"
            ],
            [
             1,
             "#f0f921"
            ]
           ],
           "sequentialminus": [
            [
             0,
             "#0d0887"
            ],
            [
             0.1111111111111111,
             "#46039f"
            ],
            [
             0.2222222222222222,
             "#7201a8"
            ],
            [
             0.3333333333333333,
             "#9c179e"
            ],
            [
             0.4444444444444444,
             "#bd3786"
            ],
            [
             0.5555555555555556,
             "#d8576b"
            ],
            [
             0.6666666666666666,
             "#ed7953"
            ],
            [
             0.7777777777777778,
             "#fb9f3a"
            ],
            [
             0.8888888888888888,
             "#fdca26"
            ],
            [
             1,
             "#f0f921"
            ]
           ]
          },
          "colorway": [
           "#636efa",
           "#EF553B",
           "#00cc96",
           "#ab63fa",
           "#FFA15A",
           "#19d3f3",
           "#FF6692",
           "#B6E880",
           "#FF97FF",
           "#FECB52"
          ],
          "font": {
           "color": "#2a3f5f"
          },
          "geo": {
           "bgcolor": "white",
           "lakecolor": "white",
           "landcolor": "#E5ECF6",
           "showlakes": true,
           "showland": true,
           "subunitcolor": "white"
          },
          "hoverlabel": {
           "align": "left"
          },
          "hovermode": "closest",
          "mapbox": {
           "style": "light"
          },
          "paper_bgcolor": "white",
          "plot_bgcolor": "#E5ECF6",
          "polar": {
           "angularaxis": {
            "gridcolor": "white",
            "linecolor": "white",
            "ticks": ""
           },
           "bgcolor": "#E5ECF6",
           "radialaxis": {
            "gridcolor": "white",
            "linecolor": "white",
            "ticks": ""
           }
          },
          "scene": {
           "xaxis": {
            "backgroundcolor": "#E5ECF6",
            "gridcolor": "white",
            "gridwidth": 2,
            "linecolor": "white",
            "showbackground": true,
            "ticks": "",
            "zerolinecolor": "white"
           },
           "yaxis": {
            "backgroundcolor": "#E5ECF6",
            "gridcolor": "white",
            "gridwidth": 2,
            "linecolor": "white",
            "showbackground": true,
            "ticks": "",
            "zerolinecolor": "white"
           },
           "zaxis": {
            "backgroundcolor": "#E5ECF6",
            "gridcolor": "white",
            "gridwidth": 2,
            "linecolor": "white",
            "showbackground": true,
            "ticks": "",
            "zerolinecolor": "white"
           }
          },
          "shapedefaults": {
           "line": {
            "color": "#2a3f5f"
           }
          },
          "ternary": {
           "aaxis": {
            "gridcolor": "white",
            "linecolor": "white",
            "ticks": ""
           },
           "baxis": {
            "gridcolor": "white",
            "linecolor": "white",
            "ticks": ""
           },
           "bgcolor": "#E5ECF6",
           "caxis": {
            "gridcolor": "white",
            "linecolor": "white",
            "ticks": ""
           }
          },
          "title": {
           "x": 0.05
          },
          "xaxis": {
           "automargin": true,
           "gridcolor": "white",
           "linecolor": "white",
           "ticks": "",
           "title": {
            "standoff": 15
           },
           "zerolinecolor": "white",
           "zerolinewidth": 2
          },
          "yaxis": {
           "automargin": true,
           "gridcolor": "white",
           "linecolor": "white",
           "ticks": "",
           "title": {
            "standoff": 15
           },
           "zerolinecolor": "white",
           "zerolinewidth": 2
          }
         }
        },
        "title": {
         "text": "Rainfall Trend"
        },
        "width": 1000,
        "xaxis": {
         "anchor": "y",
         "domain": [
          0,
          1
         ],
         "title": {
          "text": "Year"
         }
        },
        "yaxis": {
         "anchor": "x",
         "domain": [
          0,
          1
         ],
         "title": {
          "text": "Rainfall"
         }
        }
       }
      }
     },
     "metadata": {},
     "output_type": "display_data"
    }
   ],
   "source": [
    "#Q-4 Rainfall Trend \n",
    "\n",
    "fig=px.scatter(\n",
    "   df,\n",
    "   x='Year',\n",
    "   y='Total',\n",
    "   trendline='ols',\n",
    "   trendline_color_override='purple'\n",
    ")\n",
    "\n",
    "fig.update_layout(\n",
    "   title='Rainfall Trend',\n",
    "   xaxis_title='Year',\n",
    "   yaxis_title='Rainfall',\n",
    "   width=1000,\n",
    "   height=600\n",
    ")\n",
    "\n",
    "fig.show()"
   ]
  },
  {
   "cell_type": "code",
   "execution_count": 13,
   "id": "7ae8d15a",
   "metadata": {},
   "outputs": [
    {
     "data": {
      "application/vnd.plotly.v1+json": {
       "config": {
        "plotlyServerURL": "https://plot.ly"
       },
       "data": [
        {
         "hovertemplate": "Year=%{x}<br>OnsetMonth (Numeric)=%{y}<extra></extra>",
         "legendgroup": "",
         "marker": {
          "color": "#636efa",
          "symbol": "circle"
         },
         "mode": "markers",
         "name": "",
         "orientation": "v",
         "showlegend": false,
         "type": "scatter",
         "x": {
          "bdata": "AAAAAAC0nUAAAAAAALidQAAAAAAAvJ1AAAAAAADAnUAAAAAAAMSdQAAAAAAAyJ1AAAAAAADMnUAAAAAAANCdQAAAAAAA1J1AAAAAAADYnUAAAAAAANydQAAAAAAA4J1AAAAAAADknUAAAAAAAOidQAAAAAAA7J1AAAAAAADwnUAAAAAAAPSdQAAAAAAA+J1AAAAAAAD8nUAAAAAAAACeQAAAAAAABJ5AAAAAAAAInkAAAAAAAAyeQAAAAAAAEJ5AAAAAAAAUnkAAAAAAABieQAAAAAAAHJ5AAAAAAAAgnkAAAAAAACSeQAAAAAAAKJ5AAAAAAAAsnkAAAAAAADCeQAAAAAAANJ5AAAAAAAA4nkAAAAAAADyeQAAAAAAAQJ5AAAAAAABEnkAAAAAAAEieQAAAAAAATJ5AAAAAAABQnkAAAAAAAFSeQAAAAAAAWJ5AAAAAAABcnkAAAAAAAGCeQAAAAAAAZJ5AAAAAAABonkAAAAAAAGyeQAAAAAAAcJ5AAAAAAAB0nkAAAAAAAHieQAAAAAAAfJ5AAAAAAACAnkAAAAAAAISeQAAAAAAAiJ5AAAAAAACMnkAAAAAAAJCeQAAAAAAAlJ5AAAAAAACYnkAAAAAAAJyeQAAAAAAAoJ5AAAAAAACknkAAAAAAAKieQAAAAAAArJ5AAAAAAACwnkAAAAAAALSeQAAAAAAAuJ5AAAAAAAC8nkAAAAAAAMCeQAAAAAAAxJ5AAAAAAADInkAAAAAAAMyeQAAAAAAA0J5AAAAAAADUnkAAAAAAANieQAAAAAAA3J5AAAAAAADgnkAAAAAAAOSeQAAAAAAA6J5AAAAAAADsnkAAAAAAAPCeQAAAAAAA9J5AAAAAAAD4nkAAAAAAAPyeQAAAAAAAAJ9AAAAAAAAEn0AAAAAAAAifQAAAAAAADJ9AAAAAAAAQn0AAAAAAABSfQAAAAAAAGJ9AAAAAAAAcn0AAAAAAACCfQAAAAAAAJJ9AAAAAAAAon0AAAAAAACyfQAAAAAAAMJ9AAAAAAAA0n0AAAAAAADifQAAAAAAAPJ9AAAAAAABAn0AAAAAAAESfQAAAAAAASJ9AAAAAAABMn0AAAAAAAFCfQAAAAAAAVJ9AAAAAAABYn0AAAAAAAFyfQAAAAAAAYJ9AAAAAAABkn0AAAAAAAGifQAAAAAAAbJ9AAAAAAABwn0AAAAAAAHSfQAAAAAAAeJ9AAAAAAAB8n0AAAAAAAICfQAAAAAAAhJ9AAAAAAACIn0AAAAAAAIyfQAAAAAAAkJ9AAAAAAACUn0A=",
          "dtype": "f8"
         },
         "xaxis": "x",
         "y": {
          "bdata": "BggHBggGBgYGBgYHBwYGBgYHBgYGCQcHBgcGBgYGBgcGBgYGBgYHBwcGBgYGBgYHBgcGBwYGBgYGBgYGBgYGBgcHBgYGBgYGBggGBgcGBwYGBgYGBgYGBgYGBgYHBgYHBwcHBgYGBwcGBgYGCAYHBgYHBgYGBgYGBg==",
          "dtype": "i1"
         },
         "yaxis": "y"
        },
        {
         "hovertemplate": "<b>OLS trendline</b><br>NumericOnset = -0.00168676 * Year + 9.62179<br>R<sup>2</sup>=0.010483<br><br>Year=%{x}<br>OnsetMonth (Numeric)=%{y} <b>(trend)</b><extra></extra>",
         "legendgroup": "",
         "line": {
          "color": "red"
         },
         "marker": {
          "color": "#636efa",
          "symbol": "circle"
         },
         "mode": "lines",
         "name": "",
         "showlegend": false,
         "type": "scatter",
         "x": {
          "bdata": "AAAAAAC0nUAAAAAAALidQAAAAAAAvJ1AAAAAAADAnUAAAAAAAMSdQAAAAAAAyJ1AAAAAAADMnUAAAAAAANCdQAAAAAAA1J1AAAAAAADYnUAAAAAAANydQAAAAAAA4J1AAAAAAADknUAAAAAAAOidQAAAAAAA7J1AAAAAAADwnUAAAAAAAPSdQAAAAAAA+J1AAAAAAAD8nUAAAAAAAACeQAAAAAAABJ5AAAAAAAAInkAAAAAAAAyeQAAAAAAAEJ5AAAAAAAAUnkAAAAAAABieQAAAAAAAHJ5AAAAAAAAgnkAAAAAAACSeQAAAAAAAKJ5AAAAAAAAsnkAAAAAAADCeQAAAAAAANJ5AAAAAAAA4nkAAAAAAADyeQAAAAAAAQJ5AAAAAAABEnkAAAAAAAEieQAAAAAAATJ5AAAAAAABQnkAAAAAAAFSeQAAAAAAAWJ5AAAAAAABcnkAAAAAAAGCeQAAAAAAAZJ5AAAAAAABonkAAAAAAAGyeQAAAAAAAcJ5AAAAAAAB0nkAAAAAAAHieQAAAAAAAfJ5AAAAAAACAnkAAAAAAAISeQAAAAAAAiJ5AAAAAAACMnkAAAAAAAJCeQAAAAAAAlJ5AAAAAAACYnkAAAAAAAJyeQAAAAAAAoJ5AAAAAAACknkAAAAAAAKieQAAAAAAArJ5AAAAAAACwnkAAAAAAALSeQAAAAAAAuJ5AAAAAAAC8nkAAAAAAAMCeQAAAAAAAxJ5AAAAAAADInkAAAAAAAMyeQAAAAAAA0J5AAAAAAADUnkAAAAAAANieQAAAAAAA3J5AAAAAAADgnkAAAAAAAOSeQAAAAAAA6J5AAAAAAADsnkAAAAAAAPCeQAAAAAAA9J5AAAAAAAD4nkAAAAAAAPyeQAAAAAAAAJ9AAAAAAAAEn0AAAAAAAAifQAAAAAAADJ9AAAAAAAAQn0AAAAAAABSfQAAAAAAAGJ9AAAAAAAAcn0AAAAAAACCfQAAAAAAAJJ9AAAAAAAAon0AAAAAAACyfQAAAAAAAMJ9AAAAAAAA0n0AAAAAAADifQAAAAAAAPJ9AAAAAAABAn0AAAAAAAESfQAAAAAAASJ9AAAAAAABMn0AAAAAAAFCfQAAAAAAAVJ9AAAAAAABYn0AAAAAAAFyfQAAAAAAAYJ9AAAAAAABkn0AAAAAAAGifQAAAAAAAbJ9AAAAAAABwn0AAAAAAAHSfQAAAAAAAeJ9AAAAAAAB8n0AAAAAAAICfQAAAAAAAhJ9AAAAAAACIn0AAAAAAAIyfQAAAAAAAkJ9AAAAAAACUn0A=",
          "dtype": "f8"
         },
         "xaxis": "x",
         "y": {
          "bdata": "kvcvtTipGUCs72qIfqcZQMXnpVvEpRlA3t/gLgqkGUD41xsCUKIZQBLQVtWVoBlAKsiRqNueGUBEwMx7IZ0ZQF64B09nmxlAdrBCIq2ZGUCQqH318pcZQKqguMg4lhlAw5jzm36UGUDckC5vxJIZQPaIaUIKkRlAD4GkFVCPGUAoed/olY0ZQEJxGrzbixlAW2lVjyGKGUB0YZBiZ4gZQI5ZyzWthhlAp1EGCfOEGUDASUHcOIMZQNpBfK9+gRlA8zm3gsR/GUAMMvJVCn4ZQCYqLSlQfBlAPyJo/JV6GUBYGqPP23gZQHIS3qIhdxlAjAoZdmd1GUCkAlRJrXMZQL76jhzzcRlA2PLJ7zhwGUDx6gTDfm4ZQArjP5bEbBlAJNt6aQprGUA907U8UGkZQFbL8A+WZxlAcMMr49tlGUCJu2a2IWQZQKKzoYlnYhlAvKvcXK1gGUDVoxcw814ZQO6bUgM5XRlACJSN1n5bGUAhjMipxFkZQDqEA30KWBlAVHw+UFBWGUBtdHkjllQZQIZstPbbUhlAoGTvySFRGUC5XCqdZ08ZQNJUZXCtTRlA7EygQ/NLGUAGRdsWOUoZQB49Fup+SBlAODVRvcRGGUBSLYyQCkUZQGslx2NQQxlAhB0CN5ZBGUCeFT0K3D8ZQLcNeN0hPhlA0AWzsGc8GUDq/e2DrToZQAP2KFfzOBlAHO5jKjk3GUA25p79fjUZQE/e2dDEMxlAaNYUpAoyGUCCzk93UDAZQJvGikqWLhlAtL7FHdwsGUDOtgDxISsZQOeuO8RnKRlAAKd2l60nGUAan7Fq8yUZQDSX7D05JBlATI8nEX8iGUBmh2LkxCAZQIB/nbcKHxlAmHfYilAdGUCybxNelhsZQMxnTjHcGRlA5V+JBCIYGUD+V8TXZxYZQBhQ/6qtFBlAMUg6fvMSGUBKQHVROREZQGQ4sCR/DxlAfTDr98QNGUCWKCbLCgwZQLAgYZ5QChlAyRiccZYIGUDiENdE3AYZQPwIEhgiBRlAFQFN62cDGUAu+Ye+rQEZQEjxwpHz/xhAYen9ZDn+GEB64Tg4f/wYQJTZcwvF+hhArtGu3gr5GEDGyemxUPcYQODBJIWW9RhA+rlfWNzzGEASsporIvIYQCyq1f5n8BhARqIQ0q3uGEBfmkul8+wYQHiShng56xhAkorBS3/pGECrgvwexecYQMR6N/IK5hhA3nJyxVDkGED3aq2YluIYQBBj6Gvc4BhAKlsjPyLfGEBDU14SaN0YQFxLmeWt2xhAdkPUuPPZGEA=",
          "dtype": "f8"
         },
         "yaxis": "y"
        }
       ],
       "layout": {
        "legend": {
         "tracegroupgap": 0
        },
        "template": {
         "data": {
          "bar": [
           {
            "error_x": {
             "color": "#2a3f5f"
            },
            "error_y": {
             "color": "#2a3f5f"
            },
            "marker": {
             "line": {
              "color": "#E5ECF6",
              "width": 0.5
             },
             "pattern": {
              "fillmode": "overlay",
              "size": 10,
              "solidity": 0.2
             }
            },
            "type": "bar"
           }
          ],
          "barpolar": [
           {
            "marker": {
             "line": {
              "color": "#E5ECF6",
              "width": 0.5
             },
             "pattern": {
              "fillmode": "overlay",
              "size": 10,
              "solidity": 0.2
             }
            },
            "type": "barpolar"
           }
          ],
          "carpet": [
           {
            "aaxis": {
             "endlinecolor": "#2a3f5f",
             "gridcolor": "white",
             "linecolor": "white",
             "minorgridcolor": "white",
             "startlinecolor": "#2a3f5f"
            },
            "baxis": {
             "endlinecolor": "#2a3f5f",
             "gridcolor": "white",
             "linecolor": "white",
             "minorgridcolor": "white",
             "startlinecolor": "#2a3f5f"
            },
            "type": "carpet"
           }
          ],
          "choropleth": [
           {
            "colorbar": {
             "outlinewidth": 0,
             "ticks": ""
            },
            "type": "choropleth"
           }
          ],
          "contour": [
           {
            "colorbar": {
             "outlinewidth": 0,
             "ticks": ""
            },
            "colorscale": [
             [
              0,
              "#0d0887"
             ],
             [
              0.1111111111111111,
              "#46039f"
             ],
             [
              0.2222222222222222,
              "#7201a8"
             ],
             [
              0.3333333333333333,
              "#9c179e"
             ],
             [
              0.4444444444444444,
              "#bd3786"
             ],
             [
              0.5555555555555556,
              "#d8576b"
             ],
             [
              0.6666666666666666,
              "#ed7953"
             ],
             [
              0.7777777777777778,
              "#fb9f3a"
             ],
             [
              0.8888888888888888,
              "#fdca26"
             ],
             [
              1,
              "#f0f921"
             ]
            ],
            "type": "contour"
           }
          ],
          "contourcarpet": [
           {
            "colorbar": {
             "outlinewidth": 0,
             "ticks": ""
            },
            "type": "contourcarpet"
           }
          ],
          "heatmap": [
           {
            "colorbar": {
             "outlinewidth": 0,
             "ticks": ""
            },
            "colorscale": [
             [
              0,
              "#0d0887"
             ],
             [
              0.1111111111111111,
              "#46039f"
             ],
             [
              0.2222222222222222,
              "#7201a8"
             ],
             [
              0.3333333333333333,
              "#9c179e"
             ],
             [
              0.4444444444444444,
              "#bd3786"
             ],
             [
              0.5555555555555556,
              "#d8576b"
             ],
             [
              0.6666666666666666,
              "#ed7953"
             ],
             [
              0.7777777777777778,
              "#fb9f3a"
             ],
             [
              0.8888888888888888,
              "#fdca26"
             ],
             [
              1,
              "#f0f921"
             ]
            ],
            "type": "heatmap"
           }
          ],
          "histogram": [
           {
            "marker": {
             "pattern": {
              "fillmode": "overlay",
              "size": 10,
              "solidity": 0.2
             }
            },
            "type": "histogram"
           }
          ],
          "histogram2d": [
           {
            "colorbar": {
             "outlinewidth": 0,
             "ticks": ""
            },
            "colorscale": [
             [
              0,
              "#0d0887"
             ],
             [
              0.1111111111111111,
              "#46039f"
             ],
             [
              0.2222222222222222,
              "#7201a8"
             ],
             [
              0.3333333333333333,
              "#9c179e"
             ],
             [
              0.4444444444444444,
              "#bd3786"
             ],
             [
              0.5555555555555556,
              "#d8576b"
             ],
             [
              0.6666666666666666,
              "#ed7953"
             ],
             [
              0.7777777777777778,
              "#fb9f3a"
             ],
             [
              0.8888888888888888,
              "#fdca26"
             ],
             [
              1,
              "#f0f921"
             ]
            ],
            "type": "histogram2d"
           }
          ],
          "histogram2dcontour": [
           {
            "colorbar": {
             "outlinewidth": 0,
             "ticks": ""
            },
            "colorscale": [
             [
              0,
              "#0d0887"
             ],
             [
              0.1111111111111111,
              "#46039f"
             ],
             [
              0.2222222222222222,
              "#7201a8"
             ],
             [
              0.3333333333333333,
              "#9c179e"
             ],
             [
              0.4444444444444444,
              "#bd3786"
             ],
             [
              0.5555555555555556,
              "#d8576b"
             ],
             [
              0.6666666666666666,
              "#ed7953"
             ],
             [
              0.7777777777777778,
              "#fb9f3a"
             ],
             [
              0.8888888888888888,
              "#fdca26"
             ],
             [
              1,
              "#f0f921"
             ]
            ],
            "type": "histogram2dcontour"
           }
          ],
          "mesh3d": [
           {
            "colorbar": {
             "outlinewidth": 0,
             "ticks": ""
            },
            "type": "mesh3d"
           }
          ],
          "parcoords": [
           {
            "line": {
             "colorbar": {
              "outlinewidth": 0,
              "ticks": ""
             }
            },
            "type": "parcoords"
           }
          ],
          "pie": [
           {
            "automargin": true,
            "type": "pie"
           }
          ],
          "scatter": [
           {
            "fillpattern": {
             "fillmode": "overlay",
             "size": 10,
             "solidity": 0.2
            },
            "type": "scatter"
           }
          ],
          "scatter3d": [
           {
            "line": {
             "colorbar": {
              "outlinewidth": 0,
              "ticks": ""
             }
            },
            "marker": {
             "colorbar": {
              "outlinewidth": 0,
              "ticks": ""
             }
            },
            "type": "scatter3d"
           }
          ],
          "scattercarpet": [
           {
            "marker": {
             "colorbar": {
              "outlinewidth": 0,
              "ticks": ""
             }
            },
            "type": "scattercarpet"
           }
          ],
          "scattergeo": [
           {
            "marker": {
             "colorbar": {
              "outlinewidth": 0,
              "ticks": ""
             }
            },
            "type": "scattergeo"
           }
          ],
          "scattergl": [
           {
            "marker": {
             "colorbar": {
              "outlinewidth": 0,
              "ticks": ""
             }
            },
            "type": "scattergl"
           }
          ],
          "scattermap": [
           {
            "marker": {
             "colorbar": {
              "outlinewidth": 0,
              "ticks": ""
             }
            },
            "type": "scattermap"
           }
          ],
          "scattermapbox": [
           {
            "marker": {
             "colorbar": {
              "outlinewidth": 0,
              "ticks": ""
             }
            },
            "type": "scattermapbox"
           }
          ],
          "scatterpolar": [
           {
            "marker": {
             "colorbar": {
              "outlinewidth": 0,
              "ticks": ""
             }
            },
            "type": "scatterpolar"
           }
          ],
          "scatterpolargl": [
           {
            "marker": {
             "colorbar": {
              "outlinewidth": 0,
              "ticks": ""
             }
            },
            "type": "scatterpolargl"
           }
          ],
          "scatterternary": [
           {
            "marker": {
             "colorbar": {
              "outlinewidth": 0,
              "ticks": ""
             }
            },
            "type": "scatterternary"
           }
          ],
          "surface": [
           {
            "colorbar": {
             "outlinewidth": 0,
             "ticks": ""
            },
            "colorscale": [
             [
              0,
              "#0d0887"
             ],
             [
              0.1111111111111111,
              "#46039f"
             ],
             [
              0.2222222222222222,
              "#7201a8"
             ],
             [
              0.3333333333333333,
              "#9c179e"
             ],
             [
              0.4444444444444444,
              "#bd3786"
             ],
             [
              0.5555555555555556,
              "#d8576b"
             ],
             [
              0.6666666666666666,
              "#ed7953"
             ],
             [
              0.7777777777777778,
              "#fb9f3a"
             ],
             [
              0.8888888888888888,
              "#fdca26"
             ],
             [
              1,
              "#f0f921"
             ]
            ],
            "type": "surface"
           }
          ],
          "table": [
           {
            "cells": {
             "fill": {
              "color": "#EBF0F8"
             },
             "line": {
              "color": "white"
             }
            },
            "header": {
             "fill": {
              "color": "#C8D4E3"
             },
             "line": {
              "color": "white"
             }
            },
            "type": "table"
           }
          ]
         },
         "layout": {
          "annotationdefaults": {
           "arrowcolor": "#2a3f5f",
           "arrowhead": 0,
           "arrowwidth": 1
          },
          "autotypenumbers": "strict",
          "coloraxis": {
           "colorbar": {
            "outlinewidth": 0,
            "ticks": ""
           }
          },
          "colorscale": {
           "diverging": [
            [
             0,
             "#8e0152"
            ],
            [
             0.1,
             "#c51b7d"
            ],
            [
             0.2,
             "#de77ae"
            ],
            [
             0.3,
             "#f1b6da"
            ],
            [
             0.4,
             "#fde0ef"
            ],
            [
             0.5,
             "#f7f7f7"
            ],
            [
             0.6,
             "#e6f5d0"
            ],
            [
             0.7,
             "#b8e186"
            ],
            [
             0.8,
             "#7fbc41"
            ],
            [
             0.9,
             "#4d9221"
            ],
            [
             1,
             "#276419"
            ]
           ],
           "sequential": [
            [
             0,
             "#0d0887"
            ],
            [
             0.1111111111111111,
             "#46039f"
            ],
            [
             0.2222222222222222,
             "#7201a8"
            ],
            [
             0.3333333333333333,
             "#9c179e"
            ],
            [
             0.4444444444444444,
             "#bd3786"
            ],
            [
             0.5555555555555556,
             "#d8576b"
            ],
            [
             0.6666666666666666,
             "#ed7953"
            ],
            [
             0.7777777777777778,
             "#fb9f3a"
            ],
            [
             0.8888888888888888,
             "#fdca26"
            ],
            [
             1,
             "#f0f921"
            ]
           ],
           "sequentialminus": [
            [
             0,
             "#0d0887"
            ],
            [
             0.1111111111111111,
             "#46039f"
            ],
            [
             0.2222222222222222,
             "#7201a8"
            ],
            [
             0.3333333333333333,
             "#9c179e"
            ],
            [
             0.4444444444444444,
             "#bd3786"
            ],
            [
             0.5555555555555556,
             "#d8576b"
            ],
            [
             0.6666666666666666,
             "#ed7953"
            ],
            [
             0.7777777777777778,
             "#fb9f3a"
            ],
            [
             0.8888888888888888,
             "#fdca26"
            ],
            [
             1,
             "#f0f921"
            ]
           ]
          },
          "colorway": [
           "#636efa",
           "#EF553B",
           "#00cc96",
           "#ab63fa",
           "#FFA15A",
           "#19d3f3",
           "#FF6692",
           "#B6E880",
           "#FF97FF",
           "#FECB52"
          ],
          "font": {
           "color": "#2a3f5f"
          },
          "geo": {
           "bgcolor": "white",
           "lakecolor": "white",
           "landcolor": "#E5ECF6",
           "showlakes": true,
           "showland": true,
           "subunitcolor": "white"
          },
          "hoverlabel": {
           "align": "left"
          },
          "hovermode": "closest",
          "mapbox": {
           "style": "light"
          },
          "paper_bgcolor": "white",
          "plot_bgcolor": "#E5ECF6",
          "polar": {
           "angularaxis": {
            "gridcolor": "white",
            "linecolor": "white",
            "ticks": ""
           },
           "bgcolor": "#E5ECF6",
           "radialaxis": {
            "gridcolor": "white",
            "linecolor": "white",
            "ticks": ""
           }
          },
          "scene": {
           "xaxis": {
            "backgroundcolor": "#E5ECF6",
            "gridcolor": "white",
            "gridwidth": 2,
            "linecolor": "white",
            "showbackground": true,
            "ticks": "",
            "zerolinecolor": "white"
           },
           "yaxis": {
            "backgroundcolor": "#E5ECF6",
            "gridcolor": "white",
            "gridwidth": 2,
            "linecolor": "white",
            "showbackground": true,
            "ticks": "",
            "zerolinecolor": "white"
           },
           "zaxis": {
            "backgroundcolor": "#E5ECF6",
            "gridcolor": "white",
            "gridwidth": 2,
            "linecolor": "white",
            "showbackground": true,
            "ticks": "",
            "zerolinecolor": "white"
           }
          },
          "shapedefaults": {
           "line": {
            "color": "#2a3f5f"
           }
          },
          "ternary": {
           "aaxis": {
            "gridcolor": "white",
            "linecolor": "white",
            "ticks": ""
           },
           "baxis": {
            "gridcolor": "white",
            "linecolor": "white",
            "ticks": ""
           },
           "bgcolor": "#E5ECF6",
           "caxis": {
            "gridcolor": "white",
            "linecolor": "white",
            "ticks": ""
           }
          },
          "title": {
           "x": 0.05
          },
          "xaxis": {
           "automargin": true,
           "gridcolor": "white",
           "linecolor": "white",
           "ticks": "",
           "title": {
            "standoff": 15
           },
           "zerolinecolor": "white",
           "zerolinewidth": 2
          },
          "yaxis": {
           "automargin": true,
           "gridcolor": "white",
           "linecolor": "white",
           "ticks": "",
           "title": {
            "standoff": 15
           },
           "zerolinecolor": "white",
           "zerolinewidth": 2
          }
         }
        },
        "title": {
         "text": "Trend of Monsoon onset over years"
        },
        "xaxis": {
         "anchor": "y",
         "domain": [
          0,
          1
         ],
         "title": {
          "text": "Year"
         }
        },
        "yaxis": {
         "anchor": "x",
         "domain": [
          0,
          1
         ],
         "title": {
          "text": "OnsetMonth (Numeric)"
         }
        }
       }
      }
     },
     "metadata": {},
     "output_type": "display_data"
    }
   ],
   "source": [
    "#Q-5 Trend of Monsoon onset over years\n",
    "monsoon_month=['June','July','Aug','Sept']\n",
    "onset_month=[]\n",
    "\n",
    "for idx, row in df.iterrows():\n",
    "   year=row['Year']\n",
    "   for month in monsoon_month:\n",
    "      if row[month] > 68:\n",
    "         onset_month.append({'Year': year, 'OnsetMonth': month})\n",
    "         break\n",
    "\n",
    "df_onset=pd.DataFrame(onset_month)\n",
    "month_order = {'June':6, 'July':7, 'Aug':8, 'Sept':9}\n",
    "df_onset['NumericOnset']=df_onset['OnsetMonth'].map(month_order)\n",
    "\n",
    "fig=px.scatter(\n",
    "   df_onset,\n",
    "   x='Year',\n",
    "   y='NumericOnset',\n",
    "   trendline='ols',\n",
    "   trendline_color_override='red',\n",
    "   labels={'NumericOnset': 'OnsetMonth (Numeric)'},\n",
    "   title='Trend of Monsoon onset over years'\n",
    ")\n",
    "\n",
    "fig.show()"
   ]
  },
  {
   "cell_type": "code",
   "execution_count": 14,
   "id": "aa954656",
   "metadata": {},
   "outputs": [
    {
     "data": {
      "application/vnd.plotly.v1+json": {
       "config": {
        "plotlyServerURL": "https://plot.ly"
       },
       "data": [
        {
         "hovertemplate": "Year=%{x}<br>Extreme Months=%{y}<extra></extra>",
         "legendgroup": "",
         "marker": {
          "color": "#636efa",
          "symbol": "circle"
         },
         "mode": "markers",
         "name": "",
         "orientation": "v",
         "showlegend": false,
         "type": "scatter",
         "x": {
          "bdata": "AAAAAAC0nUAAAAAAALidQAAAAAAAvJ1AAAAAAADAnUAAAAAAAMSdQAAAAAAAyJ1AAAAAAADMnUAAAAAAANCdQAAAAAAA1J1AAAAAAADYnUAAAAAAANydQAAAAAAA4J1AAAAAAADknUAAAAAAAOidQAAAAAAA7J1AAAAAAADwnUAAAAAAAPSdQAAAAAAA+J1AAAAAAAD8nUAAAAAAAACeQAAAAAAABJ5AAAAAAAAInkAAAAAAAAyeQAAAAAAAEJ5AAAAAAAAUnkAAAAAAABieQAAAAAAAHJ5AAAAAAAAgnkAAAAAAACSeQAAAAAAAKJ5AAAAAAAAsnkAAAAAAADCeQAAAAAAANJ5AAAAAAAA4nkAAAAAAADyeQAAAAAAAQJ5AAAAAAABEnkAAAAAAAEieQAAAAAAATJ5AAAAAAABQnkAAAAAAAFSeQAAAAAAAWJ5AAAAAAABcnkAAAAAAAGCeQAAAAAAAZJ5AAAAAAABonkAAAAAAAGyeQAAAAAAAcJ5AAAAAAAB0nkAAAAAAAHieQAAAAAAAfJ5AAAAAAACAnkAAAAAAAISeQAAAAAAAiJ5AAAAAAACMnkAAAAAAAJCeQAAAAAAAlJ5AAAAAAACYnkAAAAAAAJyeQAAAAAAAoJ5AAAAAAACknkAAAAAAAKieQAAAAAAArJ5AAAAAAACwnkAAAAAAALSeQAAAAAAAuJ5AAAAAAAC8nkAAAAAAAMCeQAAAAAAAxJ5AAAAAAADInkAAAAAAAMyeQAAAAAAA0J5AAAAAAADUnkAAAAAAANieQAAAAAAA3J5AAAAAAADgnkAAAAAAAOSeQAAAAAAA6J5AAAAAAADsnkAAAAAAAPCeQAAAAAAA9J5AAAAAAAD4nkAAAAAAAPyeQAAAAAAAAJ9AAAAAAAAEn0AAAAAAAAifQAAAAAAADJ9AAAAAAAAQn0AAAAAAABSfQAAAAAAAGJ9AAAAAAAAcn0AAAAAAACCfQAAAAAAAJJ9AAAAAAAAon0AAAAAAACyfQAAAAAAAMJ9AAAAAAAA0n0AAAAAAADifQAAAAAAAPJ9AAAAAAABAn0AAAAAAAESfQAAAAAAASJ9AAAAAAABMn0AAAAAAAFCfQAAAAAAAVJ9AAAAAAABYn0AAAAAAAFyfQAAAAAAAYJ9AAAAAAABkn0AAAAAAAGifQAAAAAAAbJ9AAAAAAABwn0AAAAAAAHSfQAAAAAAAeJ9AAAAAAAB8n0AAAAAAAICfQAAAAAAAhJ9AAAAAAACIn0AAAAAAAIyfQAAAAAAAkJ9AAAAAAACUn0A=",
          "dtype": "f8"
         },
         "xaxis": "x",
         "y": {
          "bdata": "AgACAAACAQEAAAABAAEBAQAAAgEAAQABAQIBAQEAAAADAAACAgAAAQAAAAEAAAEBAAAAAAEAAQAAAAAAAAEAAQABAAAAAAEAAQEBAAACAQABAAEAAAABAQEBAAAAAQIAAgAAAgAAAAACAQADAAAAAAAAAQIBAQABAA==",
          "dtype": "i1"
         },
         "yaxis": "y"
        },
        {
         "hovertemplate": "<b>OLS trendline</b><br>ExtremeCount = -0.00124644 * Year + 3.03105<br>R<sup>2</sup>=0.003406<br><br>Year=%{x}<br>Extreme Months=%{y} <b>(trend)</b><extra></extra>",
         "legendgroup": "",
         "marker": {
          "color": "#636efa",
          "symbol": "circle"
         },
         "mode": "lines",
         "name": "",
         "showlegend": false,
         "type": "scatter",
         "x": {
          "bdata": "AAAAAAC0nUAAAAAAALidQAAAAAAAvJ1AAAAAAADAnUAAAAAAAMSdQAAAAAAAyJ1AAAAAAADMnUAAAAAAANCdQAAAAAAA1J1AAAAAAADYnUAAAAAAANydQAAAAAAA4J1AAAAAAADknUAAAAAAAOidQAAAAAAA7J1AAAAAAADwnUAAAAAAAPSdQAAAAAAA+J1AAAAAAAD8nUAAAAAAAACeQAAAAAAABJ5AAAAAAAAInkAAAAAAAAyeQAAAAAAAEJ5AAAAAAAAUnkAAAAAAABieQAAAAAAAHJ5AAAAAAAAgnkAAAAAAACSeQAAAAAAAKJ5AAAAAAAAsnkAAAAAAADCeQAAAAAAANJ5AAAAAAAA4nkAAAAAAADyeQAAAAAAAQJ5AAAAAAABEnkAAAAAAAEieQAAAAAAATJ5AAAAAAABQnkAAAAAAAFSeQAAAAAAAWJ5AAAAAAABcnkAAAAAAAGCeQAAAAAAAZJ5AAAAAAABonkAAAAAAAGyeQAAAAAAAcJ5AAAAAAAB0nkAAAAAAAHieQAAAAAAAfJ5AAAAAAACAnkAAAAAAAISeQAAAAAAAiJ5AAAAAAACMnkAAAAAAAJCeQAAAAAAAlJ5AAAAAAACYnkAAAAAAAJyeQAAAAAAAoJ5AAAAAAACknkAAAAAAAKieQAAAAAAArJ5AAAAAAACwnkAAAAAAALSeQAAAAAAAuJ5AAAAAAAC8nkAAAAAAAMCeQAAAAAAAxJ5AAAAAAADInkAAAAAAAMyeQAAAAAAA0J5AAAAAAADUnkAAAAAAANieQAAAAAAA3J5AAAAAAADgnkAAAAAAAOSeQAAAAAAA6J5AAAAAAADsnkAAAAAAAPCeQAAAAAAA9J5AAAAAAAD4nkAAAAAAAPyeQAAAAAAAAJ9AAAAAAAAEn0AAAAAAAAifQAAAAAAADJ9AAAAAAAAQn0AAAAAAABSfQAAAAAAAGJ9AAAAAAAAcn0AAAAAAACCfQAAAAAAAJJ9AAAAAAAAon0AAAAAAACyfQAAAAAAAMJ9AAAAAAAA0n0AAAAAAADifQAAAAAAAPJ9AAAAAAABAn0AAAAAAAESfQAAAAAAASJ9AAAAAAABMn0AAAAAAAFCfQAAAAAAAVJ9AAAAAAABYn0AAAAAAAFyfQAAAAAAAYJ9AAAAAAABkn0AAAAAAAGifQAAAAAAAbJ9AAAAAAABwn0AAAAAAAHSfQAAAAAAAeJ9AAAAAAAB8n0AAAAAAAICfQAAAAAAAhJ9AAAAAAACIn0AAAAAAAIyfQAAAAAAAkJ9AAAAAAACUn0A=",
          "dtype": "f8"
         },
         "xaxis": "x",
         "y": {
          "bdata": "rC2EKYcr5T8wLDguUSHlP7gq7DIbF+U/QCmgN+UM5T/IJ1Q8rwLlP1AmCEF5+OQ/2CS8RUPu5D9gI3BKDeTkP+QhJE/X2eQ/bCDYU6HP5D/0HoxYa8XkP3wdQF01u+Q/BBz0Yf+w5D+MGqhmyabkPxQZXGuTnOQ/mBcQcF2S5D8gFsR0J4jkP6gUeHnxfeQ/MBMsfrtz5D+4EeCChWnkP0AQlIdPX+Q/yA5IjBlV5D9MDfyQ40rkP9QLsJWtQOQ/XApkmnc25D/kCBifQSzkP2wHzKMLIuQ/9AWAqNUX5D94BDStnw3kPwAD6LFpA+Q/iAGctjP54z8QAFC7/e7jP5j+A8DH5OM/IP23xJHa4z+o+2vJW9DjPyz6H84lxuM/tPjT0u+74z8894fXubHjP8T1O9yDp+M/TPTv4E2d4z/U8qPlF5PjP1zxV+rhiOM/4O8L76t+4z9o7r/zdXTjP/Dsc/g/auM/eOsn/Qlg4z8A6tsB1FXjP4jojwaeS+M/EOdDC2hB4z+U5fcPMjfjPxzkqxT8LOM/pOJfGcYi4z8s4RMekBjjP7TfxyJaDuM/PN57JyQE4z/E3C8s7vniP0jb4zC47+I/0NmXNYLl4j9Y2Es6TNviP+DW/z4W0eI/aNWzQ+DG4j/w02dIqrziP3TSG010suI//NDPUT6o4j+Ez4NWCJ7iPwzON1vSk+I/lMzrX5yJ4j8cy59kZn/iP6TJU2kwdeI/KMgHbvpq4j+wxrtyxGDiPzjFb3eOVuI/wMMjfFhM4j9IwteAIkLiP9DAi4XsN+I/WL8/irYt4j/cvfOOgCPiP2S8p5NKGeI/7LpbmBQP4j90uQ+d3gTiP/y3w6Go+uE/hLZ3pnLw4T8MtSurPObhP5Cz368G3OE/GLKTtNDR4T+gsEe5msfhPyiv+71kveE/sK2vwi6z4T84rGPH+KjhP8CqF8zCnuE/RKnL0IyU4T/Mp3/VVorhP1SmM9oggOE/3KTn3up14T9ko5vjtGvhP+yhT+h+YeE/cKAD7UhX4T/4nrfxEk3hP4Cda/bcQuE/CJwf+6Y44T+QmtP/cC7hPxiZhwQ7JOE/oJc7CQUa4T8klu8Nzw/hP6yUoxKZBeE/NJNXF2P74D+8kQscLfHgP0SQvyD35uA/zI5zJcHc4D9UjScqi9LgP9iL2y5VyOA/YIqPMx++4D/oiEM46bPgP3CH9zyzqeA/+IWrQX2f4D+AhF9GR5XgPwiDE0sRi+A/jIHHT9uA4D8UgHtUpXbgP5x+L1lvbOA/JH3jXTli4D8=",
          "dtype": "f8"
         },
         "yaxis": "y"
        }
       ],
       "layout": {
        "legend": {
         "tracegroupgap": 0
        },
        "template": {
         "data": {
          "bar": [
           {
            "error_x": {
             "color": "#2a3f5f"
            },
            "error_y": {
             "color": "#2a3f5f"
            },
            "marker": {
             "line": {
              "color": "#E5ECF6",
              "width": 0.5
             },
             "pattern": {
              "fillmode": "overlay",
              "size": 10,
              "solidity": 0.2
             }
            },
            "type": "bar"
           }
          ],
          "barpolar": [
           {
            "marker": {
             "line": {
              "color": "#E5ECF6",
              "width": 0.5
             },
             "pattern": {
              "fillmode": "overlay",
              "size": 10,
              "solidity": 0.2
             }
            },
            "type": "barpolar"
           }
          ],
          "carpet": [
           {
            "aaxis": {
             "endlinecolor": "#2a3f5f",
             "gridcolor": "white",
             "linecolor": "white",
             "minorgridcolor": "white",
             "startlinecolor": "#2a3f5f"
            },
            "baxis": {
             "endlinecolor": "#2a3f5f",
             "gridcolor": "white",
             "linecolor": "white",
             "minorgridcolor": "white",
             "startlinecolor": "#2a3f5f"
            },
            "type": "carpet"
           }
          ],
          "choropleth": [
           {
            "colorbar": {
             "outlinewidth": 0,
             "ticks": ""
            },
            "type": "choropleth"
           }
          ],
          "contour": [
           {
            "colorbar": {
             "outlinewidth": 0,
             "ticks": ""
            },
            "colorscale": [
             [
              0,
              "#0d0887"
             ],
             [
              0.1111111111111111,
              "#46039f"
             ],
             [
              0.2222222222222222,
              "#7201a8"
             ],
             [
              0.3333333333333333,
              "#9c179e"
             ],
             [
              0.4444444444444444,
              "#bd3786"
             ],
             [
              0.5555555555555556,
              "#d8576b"
             ],
             [
              0.6666666666666666,
              "#ed7953"
             ],
             [
              0.7777777777777778,
              "#fb9f3a"
             ],
             [
              0.8888888888888888,
              "#fdca26"
             ],
             [
              1,
              "#f0f921"
             ]
            ],
            "type": "contour"
           }
          ],
          "contourcarpet": [
           {
            "colorbar": {
             "outlinewidth": 0,
             "ticks": ""
            },
            "type": "contourcarpet"
           }
          ],
          "heatmap": [
           {
            "colorbar": {
             "outlinewidth": 0,
             "ticks": ""
            },
            "colorscale": [
             [
              0,
              "#0d0887"
             ],
             [
              0.1111111111111111,
              "#46039f"
             ],
             [
              0.2222222222222222,
              "#7201a8"
             ],
             [
              0.3333333333333333,
              "#9c179e"
             ],
             [
              0.4444444444444444,
              "#bd3786"
             ],
             [
              0.5555555555555556,
              "#d8576b"
             ],
             [
              0.6666666666666666,
              "#ed7953"
             ],
             [
              0.7777777777777778,
              "#fb9f3a"
             ],
             [
              0.8888888888888888,
              "#fdca26"
             ],
             [
              1,
              "#f0f921"
             ]
            ],
            "type": "heatmap"
           }
          ],
          "histogram": [
           {
            "marker": {
             "pattern": {
              "fillmode": "overlay",
              "size": 10,
              "solidity": 0.2
             }
            },
            "type": "histogram"
           }
          ],
          "histogram2d": [
           {
            "colorbar": {
             "outlinewidth": 0,
             "ticks": ""
            },
            "colorscale": [
             [
              0,
              "#0d0887"
             ],
             [
              0.1111111111111111,
              "#46039f"
             ],
             [
              0.2222222222222222,
              "#7201a8"
             ],
             [
              0.3333333333333333,
              "#9c179e"
             ],
             [
              0.4444444444444444,
              "#bd3786"
             ],
             [
              0.5555555555555556,
              "#d8576b"
             ],
             [
              0.6666666666666666,
              "#ed7953"
             ],
             [
              0.7777777777777778,
              "#fb9f3a"
             ],
             [
              0.8888888888888888,
              "#fdca26"
             ],
             [
              1,
              "#f0f921"
             ]
            ],
            "type": "histogram2d"
           }
          ],
          "histogram2dcontour": [
           {
            "colorbar": {
             "outlinewidth": 0,
             "ticks": ""
            },
            "colorscale": [
             [
              0,
              "#0d0887"
             ],
             [
              0.1111111111111111,
              "#46039f"
             ],
             [
              0.2222222222222222,
              "#7201a8"
             ],
             [
              0.3333333333333333,
              "#9c179e"
             ],
             [
              0.4444444444444444,
              "#bd3786"
             ],
             [
              0.5555555555555556,
              "#d8576b"
             ],
             [
              0.6666666666666666,
              "#ed7953"
             ],
             [
              0.7777777777777778,
              "#fb9f3a"
             ],
             [
              0.8888888888888888,
              "#fdca26"
             ],
             [
              1,
              "#f0f921"
             ]
            ],
            "type": "histogram2dcontour"
           }
          ],
          "mesh3d": [
           {
            "colorbar": {
             "outlinewidth": 0,
             "ticks": ""
            },
            "type": "mesh3d"
           }
          ],
          "parcoords": [
           {
            "line": {
             "colorbar": {
              "outlinewidth": 0,
              "ticks": ""
             }
            },
            "type": "parcoords"
           }
          ],
          "pie": [
           {
            "automargin": true,
            "type": "pie"
           }
          ],
          "scatter": [
           {
            "fillpattern": {
             "fillmode": "overlay",
             "size": 10,
             "solidity": 0.2
            },
            "type": "scatter"
           }
          ],
          "scatter3d": [
           {
            "line": {
             "colorbar": {
              "outlinewidth": 0,
              "ticks": ""
             }
            },
            "marker": {
             "colorbar": {
              "outlinewidth": 0,
              "ticks": ""
             }
            },
            "type": "scatter3d"
           }
          ],
          "scattercarpet": [
           {
            "marker": {
             "colorbar": {
              "outlinewidth": 0,
              "ticks": ""
             }
            },
            "type": "scattercarpet"
           }
          ],
          "scattergeo": [
           {
            "marker": {
             "colorbar": {
              "outlinewidth": 0,
              "ticks": ""
             }
            },
            "type": "scattergeo"
           }
          ],
          "scattergl": [
           {
            "marker": {
             "colorbar": {
              "outlinewidth": 0,
              "ticks": ""
             }
            },
            "type": "scattergl"
           }
          ],
          "scattermap": [
           {
            "marker": {
             "colorbar": {
              "outlinewidth": 0,
              "ticks": ""
             }
            },
            "type": "scattermap"
           }
          ],
          "scattermapbox": [
           {
            "marker": {
             "colorbar": {
              "outlinewidth": 0,
              "ticks": ""
             }
            },
            "type": "scattermapbox"
           }
          ],
          "scatterpolar": [
           {
            "marker": {
             "colorbar": {
              "outlinewidth": 0,
              "ticks": ""
             }
            },
            "type": "scatterpolar"
           }
          ],
          "scatterpolargl": [
           {
            "marker": {
             "colorbar": {
              "outlinewidth": 0,
              "ticks": ""
             }
            },
            "type": "scatterpolargl"
           }
          ],
          "scatterternary": [
           {
            "marker": {
             "colorbar": {
              "outlinewidth": 0,
              "ticks": ""
             }
            },
            "type": "scatterternary"
           }
          ],
          "surface": [
           {
            "colorbar": {
             "outlinewidth": 0,
             "ticks": ""
            },
            "colorscale": [
             [
              0,
              "#0d0887"
             ],
             [
              0.1111111111111111,
              "#46039f"
             ],
             [
              0.2222222222222222,
              "#7201a8"
             ],
             [
              0.3333333333333333,
              "#9c179e"
             ],
             [
              0.4444444444444444,
              "#bd3786"
             ],
             [
              0.5555555555555556,
              "#d8576b"
             ],
             [
              0.6666666666666666,
              "#ed7953"
             ],
             [
              0.7777777777777778,
              "#fb9f3a"
             ],
             [
              0.8888888888888888,
              "#fdca26"
             ],
             [
              1,
              "#f0f921"
             ]
            ],
            "type": "surface"
           }
          ],
          "table": [
           {
            "cells": {
             "fill": {
              "color": "#EBF0F8"
             },
             "line": {
              "color": "white"
             }
            },
            "header": {
             "fill": {
              "color": "#C8D4E3"
             },
             "line": {
              "color": "white"
             }
            },
            "type": "table"
           }
          ]
         },
         "layout": {
          "annotationdefaults": {
           "arrowcolor": "#2a3f5f",
           "arrowhead": 0,
           "arrowwidth": 1
          },
          "autotypenumbers": "strict",
          "coloraxis": {
           "colorbar": {
            "outlinewidth": 0,
            "ticks": ""
           }
          },
          "colorscale": {
           "diverging": [
            [
             0,
             "#8e0152"
            ],
            [
             0.1,
             "#c51b7d"
            ],
            [
             0.2,
             "#de77ae"
            ],
            [
             0.3,
             "#f1b6da"
            ],
            [
             0.4,
             "#fde0ef"
            ],
            [
             0.5,
             "#f7f7f7"
            ],
            [
             0.6,
             "#e6f5d0"
            ],
            [
             0.7,
             "#b8e186"
            ],
            [
             0.8,
             "#7fbc41"
            ],
            [
             0.9,
             "#4d9221"
            ],
            [
             1,
             "#276419"
            ]
           ],
           "sequential": [
            [
             0,
             "#0d0887"
            ],
            [
             0.1111111111111111,
             "#46039f"
            ],
            [
             0.2222222222222222,
             "#7201a8"
            ],
            [
             0.3333333333333333,
             "#9c179e"
            ],
            [
             0.4444444444444444,
             "#bd3786"
            ],
            [
             0.5555555555555556,
             "#d8576b"
            ],
            [
             0.6666666666666666,
             "#ed7953"
            ],
            [
             0.7777777777777778,
             "#fb9f3a"
            ],
            [
             0.8888888888888888,
             "#fdca26"
            ],
            [
             1,
             "#f0f921"
            ]
           ],
           "sequentialminus": [
            [
             0,
             "#0d0887"
            ],
            [
             0.1111111111111111,
             "#46039f"
            ],
            [
             0.2222222222222222,
             "#7201a8"
            ],
            [
             0.3333333333333333,
             "#9c179e"
            ],
            [
             0.4444444444444444,
             "#bd3786"
            ],
            [
             0.5555555555555556,
             "#d8576b"
            ],
            [
             0.6666666666666666,
             "#ed7953"
            ],
            [
             0.7777777777777778,
             "#fb9f3a"
            ],
            [
             0.8888888888888888,
             "#fdca26"
            ],
            [
             1,
             "#f0f921"
            ]
           ]
          },
          "colorway": [
           "#636efa",
           "#EF553B",
           "#00cc96",
           "#ab63fa",
           "#FFA15A",
           "#19d3f3",
           "#FF6692",
           "#B6E880",
           "#FF97FF",
           "#FECB52"
          ],
          "font": {
           "color": "#2a3f5f"
          },
          "geo": {
           "bgcolor": "white",
           "lakecolor": "white",
           "landcolor": "#E5ECF6",
           "showlakes": true,
           "showland": true,
           "subunitcolor": "white"
          },
          "hoverlabel": {
           "align": "left"
          },
          "hovermode": "closest",
          "mapbox": {
           "style": "light"
          },
          "paper_bgcolor": "white",
          "plot_bgcolor": "#E5ECF6",
          "polar": {
           "angularaxis": {
            "gridcolor": "white",
            "linecolor": "white",
            "ticks": ""
           },
           "bgcolor": "#E5ECF6",
           "radialaxis": {
            "gridcolor": "white",
            "linecolor": "white",
            "ticks": ""
           }
          },
          "scene": {
           "xaxis": {
            "backgroundcolor": "#E5ECF6",
            "gridcolor": "white",
            "gridwidth": 2,
            "linecolor": "white",
            "showbackground": true,
            "ticks": "",
            "zerolinecolor": "white"
           },
           "yaxis": {
            "backgroundcolor": "#E5ECF6",
            "gridcolor": "white",
            "gridwidth": 2,
            "linecolor": "white",
            "showbackground": true,
            "ticks": "",
            "zerolinecolor": "white"
           },
           "zaxis": {
            "backgroundcolor": "#E5ECF6",
            "gridcolor": "white",
            "gridwidth": 2,
            "linecolor": "white",
            "showbackground": true,
            "ticks": "",
            "zerolinecolor": "white"
           }
          },
          "shapedefaults": {
           "line": {
            "color": "#2a3f5f"
           }
          },
          "ternary": {
           "aaxis": {
            "gridcolor": "white",
            "linecolor": "white",
            "ticks": ""
           },
           "baxis": {
            "gridcolor": "white",
            "linecolor": "white",
            "ticks": ""
           },
           "bgcolor": "#E5ECF6",
           "caxis": {
            "gridcolor": "white",
            "linecolor": "white",
            "ticks": ""
           }
          },
          "title": {
           "x": 0.05
          },
          "xaxis": {
           "automargin": true,
           "gridcolor": "white",
           "linecolor": "white",
           "ticks": "",
           "title": {
            "standoff": 15
           },
           "zerolinecolor": "white",
           "zerolinewidth": 2
          },
          "yaxis": {
           "automargin": true,
           "gridcolor": "white",
           "linecolor": "white",
           "ticks": "",
           "title": {
            "standoff": 15
           },
           "zerolinecolor": "white",
           "zerolinewidth": 2
          }
         }
        },
        "title": {
         "text": "Number of Extreme Rainfall Months per Year"
        },
        "xaxis": {
         "anchor": "y",
         "domain": [
          0,
          1
         ],
         "title": {
          "text": "Year"
         }
        },
        "yaxis": {
         "anchor": "x",
         "domain": [
          0,
          1
         ],
         "title": {
          "text": "Extreme Months"
         }
        }
       }
      }
     },
     "metadata": {},
     "output_type": "display_data"
    }
   ],
   "source": [
    "#Q-6 Extreme Rainfall Frequency\n",
    "\n",
    "threshold={}\n",
    "\n",
    "for month in monthly_cols:\n",
    "   mn=df[month].mean()\n",
    "   st=df[month].std()\n",
    "   threshold[month]= mn+2*st\n",
    "\n",
    "ext_cnt=[]\n",
    "for idx, row in df.iterrows():\n",
    "    year = row['Year']\n",
    "    extreme_months = [month for month in monthly_cols if row[month] > threshold[month]]\n",
    "    count_extremes = len(extreme_months)\n",
    "    ext_cnt.append({'Year': year, 'ExtremeCount': count_extremes})\n",
    "\n",
    "df_extreme = pd.DataFrame(ext_cnt)\n",
    "\n",
    "fig = px.scatter(df_extreme, x='Year', y='ExtremeCount', trendline='ols',\n",
    "                 title=\"Number of Extreme Rainfall Months per Year\",\n",
    "                 labels={'ExtremeCount': 'Extreme Months'})\n",
    "fig.show()\n"
   ]
  },
  {
   "cell_type": "code",
   "execution_count": 15,
   "id": "052b9719",
   "metadata": {},
   "outputs": [
    {
     "data": {
      "text/html": [
       "<div>\n",
       "<style scoped>\n",
       "    .dataframe tbody tr th:only-of-type {\n",
       "        vertical-align: middle;\n",
       "    }\n",
       "\n",
       "    .dataframe tbody tr th {\n",
       "        vertical-align: top;\n",
       "    }\n",
       "\n",
       "    .dataframe thead th {\n",
       "        text-align: right;\n",
       "    }\n",
       "</style>\n",
       "<table border=\"1\" class=\"dataframe\">\n",
       "  <thead>\n",
       "    <tr style=\"text-align: right;\">\n",
       "      <th></th>\n",
       "      <th>Year</th>\n",
       "      <th>Jan</th>\n",
       "      <th>Feb</th>\n",
       "      <th>Mar</th>\n",
       "      <th>April</th>\n",
       "      <th>May</th>\n",
       "      <th>June</th>\n",
       "      <th>July</th>\n",
       "      <th>Aug</th>\n",
       "      <th>Sept</th>\n",
       "      <th>Oct</th>\n",
       "      <th>Nov</th>\n",
       "      <th>Dec</th>\n",
       "      <th>Total</th>\n",
       "      <th>TwoDecade</th>\n",
       "      <th>decade</th>\n",
       "    </tr>\n",
       "  </thead>\n",
       "  <tbody>\n",
       "    <tr>\n",
       "      <th>0</th>\n",
       "      <td>1901</td>\n",
       "      <td>10.112927</td>\n",
       "      <td>52.862372</td>\n",
       "      <td>7.168071</td>\n",
       "      <td>75.917375</td>\n",
       "      <td>32.831126</td>\n",
       "      <td>83.528905</td>\n",
       "      <td>188.379469</td>\n",
       "      <td>119.180072</td>\n",
       "      <td>44.675581</td>\n",
       "      <td>88.293638</td>\n",
       "      <td>24.407491</td>\n",
       "      <td>0.000000</td>\n",
       "      <td>727.357028</td>\n",
       "      <td>1900</td>\n",
       "      <td>1900</td>\n",
       "    </tr>\n",
       "    <tr>\n",
       "      <th>1</th>\n",
       "      <td>1902</td>\n",
       "      <td>0.240396</td>\n",
       "      <td>0.000000</td>\n",
       "      <td>1.652090</td>\n",
       "      <td>8.938205</td>\n",
       "      <td>7.725327</td>\n",
       "      <td>45.802008</td>\n",
       "      <td>36.952134</td>\n",
       "      <td>134.102439</td>\n",
       "      <td>270.882651</td>\n",
       "      <td>80.018227</td>\n",
       "      <td>16.555297</td>\n",
       "      <td>6.553475</td>\n",
       "      <td>609.422251</td>\n",
       "      <td>1900</td>\n",
       "      <td>1900</td>\n",
       "    </tr>\n",
       "    <tr>\n",
       "      <th>2</th>\n",
       "      <td>1903</td>\n",
       "      <td>9.087042</td>\n",
       "      <td>0.000000</td>\n",
       "      <td>0.000000</td>\n",
       "      <td>9.145082</td>\n",
       "      <td>72.514370</td>\n",
       "      <td>23.707486</td>\n",
       "      <td>315.810907</td>\n",
       "      <td>279.061634</td>\n",
       "      <td>229.481830</td>\n",
       "      <td>281.198519</td>\n",
       "      <td>56.139121</td>\n",
       "      <td>1.791662</td>\n",
       "      <td>1277.937654</td>\n",
       "      <td>1900</td>\n",
       "      <td>1900</td>\n",
       "    </tr>\n",
       "    <tr>\n",
       "      <th>3</th>\n",
       "      <td>1904</td>\n",
       "      <td>0.000000</td>\n",
       "      <td>0.000000</td>\n",
       "      <td>8.360287</td>\n",
       "      <td>6.717636</td>\n",
       "      <td>33.226691</td>\n",
       "      <td>101.047456</td>\n",
       "      <td>155.568144</td>\n",
       "      <td>26.521762</td>\n",
       "      <td>170.547767</td>\n",
       "      <td>67.828693</td>\n",
       "      <td>0.000000</td>\n",
       "      <td>0.000000</td>\n",
       "      <td>569.818436</td>\n",
       "      <td>1900</td>\n",
       "      <td>1900</td>\n",
       "    </tr>\n",
       "    <tr>\n",
       "      <th>4</th>\n",
       "      <td>1905</td>\n",
       "      <td>0.000000</td>\n",
       "      <td>1.681273</td>\n",
       "      <td>9.383354</td>\n",
       "      <td>13.284002</td>\n",
       "      <td>73.832949</td>\n",
       "      <td>49.214737</td>\n",
       "      <td>53.542535</td>\n",
       "      <td>229.292151</td>\n",
       "      <td>93.277458</td>\n",
       "      <td>52.497142</td>\n",
       "      <td>0.000000</td>\n",
       "      <td>0.000000</td>\n",
       "      <td>576.005602</td>\n",
       "      <td>1900</td>\n",
       "      <td>1900</td>\n",
       "    </tr>\n",
       "    <tr>\n",
       "      <th>...</th>\n",
       "      <td>...</td>\n",
       "      <td>...</td>\n",
       "      <td>...</td>\n",
       "      <td>...</td>\n",
       "      <td>...</td>\n",
       "      <td>...</td>\n",
       "      <td>...</td>\n",
       "      <td>...</td>\n",
       "      <td>...</td>\n",
       "      <td>...</td>\n",
       "      <td>...</td>\n",
       "      <td>...</td>\n",
       "      <td>...</td>\n",
       "      <td>...</td>\n",
       "      <td>...</td>\n",
       "      <td>...</td>\n",
       "    </tr>\n",
       "    <tr>\n",
       "      <th>116</th>\n",
       "      <td>2017</td>\n",
       "      <td>0.000000</td>\n",
       "      <td>0.000000</td>\n",
       "      <td>7.111951</td>\n",
       "      <td>18.481173</td>\n",
       "      <td>30.193530</td>\n",
       "      <td>225.171792</td>\n",
       "      <td>143.562054</td>\n",
       "      <td>184.381353</td>\n",
       "      <td>199.858324</td>\n",
       "      <td>229.367607</td>\n",
       "      <td>0.379236</td>\n",
       "      <td>0.000000</td>\n",
       "      <td>1038.507021</td>\n",
       "      <td>2000</td>\n",
       "      <td>2010</td>\n",
       "    </tr>\n",
       "    <tr>\n",
       "      <th>117</th>\n",
       "      <td>2018</td>\n",
       "      <td>0.000000</td>\n",
       "      <td>0.000000</td>\n",
       "      <td>1.379888</td>\n",
       "      <td>33.635686</td>\n",
       "      <td>60.990646</td>\n",
       "      <td>117.251607</td>\n",
       "      <td>91.716469</td>\n",
       "      <td>121.431259</td>\n",
       "      <td>74.383542</td>\n",
       "      <td>22.334929</td>\n",
       "      <td>0.000000</td>\n",
       "      <td>47.157482</td>\n",
       "      <td>570.281508</td>\n",
       "      <td>2000</td>\n",
       "      <td>2010</td>\n",
       "    </tr>\n",
       "    <tr>\n",
       "      <th>118</th>\n",
       "      <td>2019</td>\n",
       "      <td>14.167822</td>\n",
       "      <td>0.530879</td>\n",
       "      <td>0.369189</td>\n",
       "      <td>20.313522</td>\n",
       "      <td>34.606489</td>\n",
       "      <td>94.542983</td>\n",
       "      <td>132.054654</td>\n",
       "      <td>146.249771</td>\n",
       "      <td>258.256705</td>\n",
       "      <td>169.716020</td>\n",
       "      <td>0.000000</td>\n",
       "      <td>2.807710</td>\n",
       "      <td>873.615744</td>\n",
       "      <td>2000</td>\n",
       "      <td>2010</td>\n",
       "    </tr>\n",
       "    <tr>\n",
       "      <th>119</th>\n",
       "      <td>2020</td>\n",
       "      <td>2.456763</td>\n",
       "      <td>6.358386</td>\n",
       "      <td>7.971729</td>\n",
       "      <td>22.438614</td>\n",
       "      <td>14.578018</td>\n",
       "      <td>145.467639</td>\n",
       "      <td>124.280878</td>\n",
       "      <td>278.414528</td>\n",
       "      <td>303.827835</td>\n",
       "      <td>319.002678</td>\n",
       "      <td>7.544558</td>\n",
       "      <td>0.000000</td>\n",
       "      <td>1232.341627</td>\n",
       "      <td>2020</td>\n",
       "      <td>2020</td>\n",
       "    </tr>\n",
       "    <tr>\n",
       "      <th>120</th>\n",
       "      <td>2021</td>\n",
       "      <td>0.736121</td>\n",
       "      <td>1.718592</td>\n",
       "      <td>0.000000</td>\n",
       "      <td>12.132312</td>\n",
       "      <td>59.595728</td>\n",
       "      <td>148.957934</td>\n",
       "      <td>242.322671</td>\n",
       "      <td>160.007151</td>\n",
       "      <td>279.084019</td>\n",
       "      <td>73.611855</td>\n",
       "      <td>29.662873</td>\n",
       "      <td>0.000000</td>\n",
       "      <td>1007.829255</td>\n",
       "      <td>2020</td>\n",
       "      <td>2020</td>\n",
       "    </tr>\n",
       "  </tbody>\n",
       "</table>\n",
       "<p>121 rows × 16 columns</p>\n",
       "</div>"
      ],
      "text/plain": [
       "     Year        Jan        Feb       Mar      April        May        June  \\\n",
       "0    1901  10.112927  52.862372  7.168071  75.917375  32.831126   83.528905   \n",
       "1    1902   0.240396   0.000000  1.652090   8.938205   7.725327   45.802008   \n",
       "2    1903   9.087042   0.000000  0.000000   9.145082  72.514370   23.707486   \n",
       "3    1904   0.000000   0.000000  8.360287   6.717636  33.226691  101.047456   \n",
       "4    1905   0.000000   1.681273  9.383354  13.284002  73.832949   49.214737   \n",
       "..    ...        ...        ...       ...        ...        ...         ...   \n",
       "116  2017   0.000000   0.000000  7.111951  18.481173  30.193530  225.171792   \n",
       "117  2018   0.000000   0.000000  1.379888  33.635686  60.990646  117.251607   \n",
       "118  2019  14.167822   0.530879  0.369189  20.313522  34.606489   94.542983   \n",
       "119  2020   2.456763   6.358386  7.971729  22.438614  14.578018  145.467639   \n",
       "120  2021   0.736121   1.718592  0.000000  12.132312  59.595728  148.957934   \n",
       "\n",
       "           July         Aug        Sept         Oct        Nov        Dec  \\\n",
       "0    188.379469  119.180072   44.675581   88.293638  24.407491   0.000000   \n",
       "1     36.952134  134.102439  270.882651   80.018227  16.555297   6.553475   \n",
       "2    315.810907  279.061634  229.481830  281.198519  56.139121   1.791662   \n",
       "3    155.568144   26.521762  170.547767   67.828693   0.000000   0.000000   \n",
       "4     53.542535  229.292151   93.277458   52.497142   0.000000   0.000000   \n",
       "..          ...         ...         ...         ...        ...        ...   \n",
       "116  143.562054  184.381353  199.858324  229.367607   0.379236   0.000000   \n",
       "117   91.716469  121.431259   74.383542   22.334929   0.000000  47.157482   \n",
       "118  132.054654  146.249771  258.256705  169.716020   0.000000   2.807710   \n",
       "119  124.280878  278.414528  303.827835  319.002678   7.544558   0.000000   \n",
       "120  242.322671  160.007151  279.084019   73.611855  29.662873   0.000000   \n",
       "\n",
       "           Total  TwoDecade  decade  \n",
       "0     727.357028       1900    1900  \n",
       "1     609.422251       1900    1900  \n",
       "2    1277.937654       1900    1900  \n",
       "3     569.818436       1900    1900  \n",
       "4     576.005602       1900    1900  \n",
       "..           ...        ...     ...  \n",
       "116  1038.507021       2000    2010  \n",
       "117   570.281508       2000    2010  \n",
       "118   873.615744       2000    2010  \n",
       "119  1232.341627       2020    2020  \n",
       "120  1007.829255       2020    2020  \n",
       "\n",
       "[121 rows x 16 columns]"
      ]
     },
     "execution_count": 15,
     "metadata": {},
     "output_type": "execute_result"
    }
   ],
   "source": [
    "df_decade=df\n",
    "df_decade['decade']=(df_decade['Year']//10) *10\n",
    "df_decade"
   ]
  },
  {
   "cell_type": "code",
   "execution_count": 16,
   "id": "e8947600",
   "metadata": {},
   "outputs": [
    {
     "data": {
      "image/png": "[encoded data removed]",
      "text/plain": [
       "<Figure size 1200x600 with 1 Axes>"
      ]
     },
     "metadata": {},
     "output_type": "display_data"
    }
   ],
   "source": [
    "susbet=df_decade[df_decade['decade'].isin([1990,2010])]\n",
    "annual_mean=susbet.groupby('decade')['Total'].mean().reset_index()\n",
    "\n",
    "monthly_mean=susbet.groupby('decade')[monthly_cols].mean().T\n",
    "monthly_mean.columns=[f\"{d}s\" for d in monthly_mean.columns]\n",
    "\n",
    "decades_to_compare = [1980, 2020]\n",
    "\n",
    "x = range(len(monthly_cols))\n",
    "width = 0.4\n",
    "\n",
    "plt.figure(figsize=(12, 6))\n",
    "plt.bar(x, monthly_mean.iloc[:, 0], width=width, label=f\"{decades_to_compare[0]}s\")\n",
    "plt.bar([i + width for i in x], monthly_mean.iloc[:, 1], width=width, label=f\"{decades_to_compare[1]}s\")\n",
    "\n",
    "plt.xticks([i + width/2 for i in x], monthly_cols)\n",
    "plt.xlabel('Month')\n",
    "plt.ylabel('Average Rainfall (mm)')\n",
    "plt.title(f'Average Monthly Rainfall: {decades_to_compare[0]}s vs {decades_to_compare[1]}s')\n",
    "plt.legend()\n",
    "plt.tight_layout()\n",
    "plt.show()"
   ]
  },
  {
   "cell_type": "code",
   "execution_count": 17,
   "id": "1e3c0478",
   "metadata": {},
   "outputs": [
    {
     "data": {
      "application/vnd.plotly.v1+json": {
       "config": {
        "plotlyServerURL": "https://plot.ly"
       },
       "data": [
        {
         "hovertemplate": "Anomaly_color=Below Normal<br>Year=%{x}<br>Anomaly=%{y}<extra></extra>",
         "legendgroup": "Below Normal",
         "marker": {
          "color": "red",
          "pattern": {
           "shape": ""
          }
         },
         "name": "Below Normal",
         "orientation": "v",
         "showlegend": true,
         "textposition": "auto",
         "type": "bar",
         "x": {
          "bdata": "bQduB3AHcQdzB3UHdgd3B3gHeQd+B4AHgQeCB4MHhgeJB4oHjAeOB48HkQeSB5MHlAeVB5YHmQeaB5wHnQefB6AHpAelB6gHqwesB60HrgewB7EHswe0B7kHuwe8B8AHwQfCB8gHyQfKB80HzwfSB9MH1AfXB9kH2wfcB94H3wfiBw==",
          "dtype": "i2"
         },
         "xaxis": "x",
         "y": {
          "bdata": "WEYqCIxSUMDEVL+1L+dmwBjwUiiC2mvA7PEH5oQUa8DAtG8Xi3YwwLDCEjDNWlnAeDTzBUA7WcCMrUFI//lwwLh/hQrFAWbAIPhe0Rs3dMCAWuZdnh9wwMzFSemad2TA0D0auUtdUMDdUNKsVZ1ywIw+q6+KaWfAwI1Z2VpgacC0gDptDiZpwAhRg0zO6mDA9OzIhXA1a8DIphBhzs1nwHgSYvQUm1nAwE8WjOAhOMDwgFrzrsBOwIgzhEZMe2jAoOhLscmZTsDRyvK5d991wFze4VneoWrAwGtvU2g1I8C4iKNE3UZqwLi+PqUnoF3ANOeUGcFkbsAAYkXbx5gwwEzjAsr5+HLAAFZqo7CpKcC0e8iIsQJgwEDTo+voR0zAgGV2cJywG8AAniD6kNIbwPD53KJeOmTA2N9BHh71VsDE7qV4HUhgwBwP52nBK2HAkCDG8xrPY8CKEnOeH5t1wADz0PMVEl7AQPA4wSUeX8DQcVUX5yVswJipmubVEFjARCggdbxLbsDg24/rqH9bwFjN7mJsTmPA2OFKTYTSXcAACGM63yzVv8ACriJjeSXAcCEfk8QPcMB07StNwWpmwICmSjHBSEDA4I53w6S9VsBAOKVA6wY0wNBxROsO1GDAZLPogAATasBwQlcJ4d9MwKxcIxvac2PAwKft+MEyZsB8ucqssMtrwA==",
          "dtype": "f8"
         },
         "yaxis": "y"
        },
        {
         "hovertemplate": "Anomaly_color=Above Normal<br>Year=%{x}<br>Anomaly=%{y}<extra></extra>",
         "legendgroup": "Above Normal",
         "marker": {
          "color": "green",
          "pattern": {
           "shape": ""
          }
         },
         "name": "Above Normal",
         "orientation": "v",
         "showlegend": true,
         "textposition": "auto",
         "type": "bar",
         "x": {
          "bdata": "bwdyB3QHegd7B3wHfQd/B4QHhQeHB4gHiweNB5AHlweYB5sHngehB6IHowemB6cHqQeqB68Hsge1B7YHtwe4B7oHvQe+B78HwwfEB8UHxgfHB8sHzAfOB9AH0QfVB9YH2AfaB90H4AfhB+MH5AflBw==",
          "dtype": "i2"
         },
         "xaxis": "x",
         "y": {
          "bdata": "huHdPKdUfkBAGvmTB/owQFABt3KISVlAxBAZGEIkZUDe0BUX2bt8QLqw7zXWU3pAUAkPHn8MWkA8R7MqQd5nQEA/ama3hC9AeKUl2ueEV0DEGv3g+wtlQIBef8DoZyFA0IWCJXFxaEB2drOxZGxzQPDyLXv9uUVAAFpc+Meo+z+w3Bl1mC5MQFBpGB39mlRA2HZ4+GlIU0CweWMQQ2NOQIC/3LTetjxAPEvLZUfza0D4XGZcSjhQQGh0trrkCVJA/BZ9xzlfZUCCCzPfU/pwQACC9pAEJR1AWAHZyjgqW0BYrdPM7J5YQCATczEmPzJAhhnUKeHedUDg8uZH0oIwQCp+DTNG0XBAXG8gi2J4ZUDA7f6ZYQE3QPqR3AzJKn5AZJSisgVHZ0DQvyfvGAhCQFhrnl2Gw1JAIPRdHdqBZUDABHE3vclFQNayNjijWndADI4XOfkcZEAABUNGvqdVQCBxA1tJ1mRAwNPEn3xlIkByZQpIzUZ3QPzXPksFamNAyjRUNymedkDuzSlzRXN3QHjv44WYNWxA+vKDZf5IcECEUOC6hrtuQFC158cCPlRA/lhC6R17e0CgxY141uVqQA==",
          "dtype": "f8"
         },
         "yaxis": "y"
        }
       ],
       "layout": {
        "barmode": "relative",
        "legend": {
         "title": {
          "text": "Anomaly_color"
         },
         "tracegroupgap": 0
        },
        "template": {
         "data": {
          "bar": [
           {
            "error_x": {
             "color": "#2a3f5f"
            },
            "error_y": {
             "color": "#2a3f5f"
            },
            "marker": {
             "line": {
              "color": "#E5ECF6",
              "width": 0.5
             },
             "pattern": {
              "fillmode": "overlay",
              "size": 10,
              "solidity": 0.2
             }
            },
            "type": "bar"
           }
          ],
          "barpolar": [
           {
            "marker": {
             "line": {
              "color": "#E5ECF6",
              "width": 0.5
             },
             "pattern": {
              "fillmode": "overlay",
              "size": 10,
              "solidity": 0.2
             }
            },
            "type": "barpolar"
           }
          ],
          "carpet": [
           {
            "aaxis": {
             "endlinecolor": "#2a3f5f",
             "gridcolor": "white",
             "linecolor": "white",
             "minorgridcolor": "white",
             "startlinecolor": "#2a3f5f"
            },
            "baxis": {
             "endlinecolor": "#2a3f5f",
             "gridcolor": "white",
             "linecolor": "white",
             "minorgridcolor": "white",
             "startlinecolor": "#2a3f5f"
            },
            "type": "carpet"
           }
          ],
          "choropleth": [
           {
            "colorbar": {
             "outlinewidth": 0,
             "ticks": ""
            },
            "type": "choropleth"
           }
          ],
          "contour": [
           {
            "colorbar": {
             "outlinewidth": 0,
             "ticks": ""
            },
            "colorscale": [
             [
              0,
              "#0d0887"
             ],
             [
              0.1111111111111111,
              "#46039f"
             ],
             [
              0.2222222222222222,
              "#7201a8"
             ],
             [
              0.3333333333333333,
              "#9c179e"
             ],
             [
              0.4444444444444444,
              "#bd3786"
             ],
             [
              0.5555555555555556,
              "#d8576b"
             ],
             [
              0.6666666666666666,
              "#ed7953"
             ],
             [
              0.7777777777777778,
              "#fb9f3a"
             ],
             [
              0.8888888888888888,
              "#fdca26"
             ],
             [
              1,
              "#f0f921"
             ]
            ],
            "type": "contour"
           }
          ],
          "contourcarpet": [
           {
            "colorbar": {
             "outlinewidth": 0,
             "ticks": ""
            },
            "type": "contourcarpet"
           }
          ],
          "heatmap": [
           {
            "colorbar": {
             "outlinewidth": 0,
             "ticks": ""
            },
            "colorscale": [
             [
              0,
              "#0d0887"
             ],
             [
              0.1111111111111111,
              "#46039f"
             ],
             [
              0.2222222222222222,
              "#7201a8"
             ],
             [
              0.3333333333333333,
              "#9c179e"
             ],
             [
              0.4444444444444444,
              "#bd3786"
             ],
             [
              0.5555555555555556,
              "#d8576b"
             ],
             [
              0.6666666666666666,
              "#ed7953"
             ],
             [
              0.7777777777777778,
              "#fb9f3a"
             ],
             [
              0.8888888888888888,
              "#fdca26"
             ],
             [
              1,
              "#f0f921"
             ]
            ],
            "type": "heatmap"
           }
          ],
          "histogram": [
           {
            "marker": {
             "pattern": {
              "fillmode": "overlay",
              "size": 10,
              "solidity": 0.2
             }
            },
            "type": "histogram"
           }
          ],
          "histogram2d": [
           {
            "colorbar": {
             "outlinewidth": 0,
             "ticks": ""
            },
            "colorscale": [
             [
              0,
              "#0d0887"
             ],
             [
              0.1111111111111111,
              "#46039f"
             ],
             [
              0.2222222222222222,
              "#7201a8"
             ],
             [
              0.3333333333333333,
              "#9c179e"
             ],
             [
              0.4444444444444444,
              "#bd3786"
             ],
             [
              0.5555555555555556,
              "#d8576b"
             ],
             [
              0.6666666666666666,
              "#ed7953"
             ],
             [
              0.7777777777777778,
              "#fb9f3a"
             ],
             [
              0.8888888888888888,
              "#fdca26"
             ],
             [
              1,
              "#f0f921"
             ]
            ],
            "type": "histogram2d"
           }
          ],
          "histogram2dcontour": [
           {
            "colorbar": {
             "outlinewidth": 0,
             "ticks": ""
            },
            "colorscale": [
             [
              0,
              "#0d0887"
             ],
             [
              0.1111111111111111,
              "#46039f"
             ],
             [
              0.2222222222222222,
              "#7201a8"
             ],
             [
              0.3333333333333333,
              "#9c179e"
             ],
             [
              0.4444444444444444,
              "#bd3786"
             ],
             [
              0.5555555555555556,
              "#d8576b"
             ],
             [
              0.6666666666666666,
              "#ed7953"
             ],
             [
              0.7777777777777778,
              "#fb9f3a"
             ],
             [
              0.8888888888888888,
              "#fdca26"
             ],
             [
              1,
              "#f0f921"
             ]
            ],
            "type": "histogram2dcontour"
           }
          ],
          "mesh3d": [
           {
            "colorbar": {
             "outlinewidth": 0,
             "ticks": ""
            },
            "type": "mesh3d"
           }
          ],
          "parcoords": [
           {
            "line": {
             "colorbar": {
              "outlinewidth": 0,
              "ticks": ""
             }
            },
            "type": "parcoords"
           }
          ],
          "pie": [
           {
            "automargin": true,
            "type": "pie"
           }
          ],
          "scatter": [
           {
            "fillpattern": {
             "fillmode": "overlay",
             "size": 10,
             "solidity": 0.2
            },
            "type": "scatter"
           }
          ],
          "scatter3d": [
           {
            "line": {
             "colorbar": {
              "outlinewidth": 0,
              "ticks": ""
             }
            },
            "marker": {
             "colorbar": {
              "outlinewidth": 0,
              "ticks": ""
             }
            },
            "type": "scatter3d"
           }
          ],
          "scattercarpet": [
           {
            "marker": {
             "colorbar": {
              "outlinewidth": 0,
              "ticks": ""
             }
            },
            "type": "scattercarpet"
           }
          ],
          "scattergeo": [
           {
            "marker": {
             "colorbar": {
              "outlinewidth": 0,
              "ticks": ""
             }
            },
            "type": "scattergeo"
           }
          ],
          "scattergl": [
           {
            "marker": {
             "colorbar": {
              "outlinewidth": 0,
              "ticks": ""
             }
            },
            "type": "scattergl"
           }
          ],
          "scattermap": [
           {
            "marker": {
             "colorbar": {
              "outlinewidth": 0,
              "ticks": ""
             }
            },
            "type": "scattermap"
           }
          ],
          "scattermapbox": [
           {
            "marker": {
             "colorbar": {
              "outlinewidth": 0,
              "ticks": ""
             }
            },
            "type": "scattermapbox"
           }
          ],
          "scatterpolar": [
           {
            "marker": {
             "colorbar": {
              "outlinewidth": 0,
              "ticks": ""
             }
            },
            "type": "scatterpolar"
           }
          ],
          "scatterpolargl": [
           {
            "marker": {
             "colorbar": {
              "outlinewidth": 0,
              "ticks": ""
             }
            },
            "type": "scatterpolargl"
           }
          ],
          "scatterternary": [
           {
            "marker": {
             "colorbar": {
              "outlinewidth": 0,
              "ticks": ""
             }
            },
            "type": "scatterternary"
           }
          ],
          "surface": [
           {
            "colorbar": {
             "outlinewidth": 0,
             "ticks": ""
            },
            "colorscale": [
             [
              0,
              "#0d0887"
             ],
             [
              0.1111111111111111,
              "#46039f"
             ],
             [
              0.2222222222222222,
              "#7201a8"
             ],
             [
              0.3333333333333333,
              "#9c179e"
             ],
             [
              0.4444444444444444,
              "#bd3786"
             ],
             [
              0.5555555555555556,
              "#d8576b"
             ],
             [
              0.6666666666666666,
              "#ed7953"
             ],
             [
              0.7777777777777778,
              "#fb9f3a"
             ],
             [
              0.8888888888888888,
              "#fdca26"
             ],
             [
              1,
              "#f0f921"
             ]
            ],
            "type": "surface"
           }
          ],
          "table": [
           {
            "cells": {
             "fill": {
              "color": "#EBF0F8"
             },
             "line": {
              "color": "white"
             }
            },
            "header": {
             "fill": {
              "color": "#C8D4E3"
             },
             "line": {
              "color": "white"
             }
            },
            "type": "table"
           }
          ]
         },
         "layout": {
          "annotationdefaults": {
           "arrowcolor": "#2a3f5f",
           "arrowhead": 0,
           "arrowwidth": 1
          },
          "autotypenumbers": "strict",
          "coloraxis": {
           "colorbar": {
            "outlinewidth": 0,
            "ticks": ""
           }
          },
          "colorscale": {
           "diverging": [
            [
             0,
             "#8e0152"
            ],
            [
             0.1,
             "#c51b7d"
            ],
            [
             0.2,
             "#de77ae"
            ],
            [
             0.3,
             "#f1b6da"
            ],
            [
             0.4,
             "#fde0ef"
            ],
            [
             0.5,
             "#f7f7f7"
            ],
            [
             0.6,
             "#e6f5d0"
            ],
            [
             0.7,
             "#b8e186"
            ],
            [
             0.8,
             "#7fbc41"
            ],
            [
             0.9,
             "#4d9221"
            ],
            [
             1,
             "#276419"
            ]
           ],
           "sequential": [
            [
             0,
             "#0d0887"
            ],
            [
             0.1111111111111111,
             "#46039f"
            ],
            [
             0.2222222222222222,
             "#7201a8"
            ],
            [
             0.3333333333333333,
             "#9c179e"
            ],
            [
             0.4444444444444444,
             "#bd3786"
            ],
            [
             0.5555555555555556,
             "#d8576b"
            ],
            [
             0.6666666666666666,
             "#ed7953"
            ],
            [
             0.7777777777777778,
             "#fb9f3a"
            ],
            [
             0.8888888888888888,
             "#fdca26"
            ],
            [
             1,
             "#f0f921"
            ]
           ],
           "sequentialminus": [
            [
             0,
             "#0d0887"
            ],
            [
             0.1111111111111111,
             "#46039f"
            ],
            [
             0.2222222222222222,
             "#7201a8"
            ],
            [
             0.3333333333333333,
             "#9c179e"
            ],
            [
             0.4444444444444444,
             "#bd3786"
            ],
            [
             0.5555555555555556,
             "#d8576b"
            ],
            [
             0.6666666666666666,
             "#ed7953"
            ],
            [
             0.7777777777777778,
             "#fb9f3a"
            ],
            [
             0.8888888888888888,
             "#fdca26"
            ],
            [
             1,
             "#f0f921"
            ]
           ]
          },
          "colorway": [
           "#636efa",
           "#EF553B",
           "#00cc96",
           "#ab63fa",
           "#FFA15A",
           "#19d3f3",
           "#FF6692",
           "#B6E880",
           "#FF97FF",
           "#FECB52"
          ],
          "font": {
           "color": "#2a3f5f"
          },
          "geo": {
           "bgcolor": "white",
           "lakecolor": "white",
           "landcolor": "#E5ECF6",
           "showlakes": true,
           "showland": true,
           "subunitcolor": "white"
          },
          "hoverlabel": {
           "align": "left"
          },
          "hovermode": "closest",
          "mapbox": {
           "style": "light"
          },
          "paper_bgcolor": "white",
          "plot_bgcolor": "#E5ECF6",
          "polar": {
           "angularaxis": {
            "gridcolor": "white",
            "linecolor": "white",
            "ticks": ""
           },
           "bgcolor": "#E5ECF6",
           "radialaxis": {
            "gridcolor": "white",
            "linecolor": "white",
            "ticks": ""
           }
          },
          "scene": {
           "xaxis": {
            "backgroundcolor": "#E5ECF6",
            "gridcolor": "white",
            "gridwidth": 2,
            "linecolor": "white",
            "showbackground": true,
            "ticks": "",
            "zerolinecolor": "white"
           },
           "yaxis": {
            "backgroundcolor": "#E5ECF6",
            "gridcolor": "white",
            "gridwidth": 2,
            "linecolor": "white",
            "showbackground": true,
            "ticks": "",
            "zerolinecolor": "white"
           },
           "zaxis": {
            "backgroundcolor": "#E5ECF6",
            "gridcolor": "white",
            "gridwidth": 2,
            "linecolor": "white",
            "showbackground": true,
            "ticks": "",
            "zerolinecolor": "white"
           }
          },
          "shapedefaults": {
           "line": {
            "color": "#2a3f5f"
           }
          },
          "ternary": {
           "aaxis": {
            "gridcolor": "white",
            "linecolor": "white",
            "ticks": ""
           },
           "baxis": {
            "gridcolor": "white",
            "linecolor": "white",
            "ticks": ""
           },
           "bgcolor": "#E5ECF6",
           "caxis": {
            "gridcolor": "white",
            "linecolor": "white",
            "ticks": ""
           }
          },
          "title": {
           "x": 0.05
          },
          "xaxis": {
           "automargin": true,
           "gridcolor": "white",
           "linecolor": "white",
           "ticks": "",
           "title": {
            "standoff": 15
           },
           "zerolinecolor": "white",
           "zerolinewidth": 2
          },
          "yaxis": {
           "automargin": true,
           "gridcolor": "white",
           "linecolor": "white",
           "ticks": "",
           "title": {
            "standoff": 15
           },
           "zerolinecolor": "white",
           "zerolinewidth": 2
          }
         }
        },
        "title": {
         "text": "Annual Rainfall Anomaly: Hyderabad"
        },
        "xaxis": {
         "anchor": "y",
         "domain": [
          0,
          1
         ],
         "title": {
          "text": "Year"
         }
        },
        "yaxis": {
         "anchor": "x",
         "domain": [
          0,
          1
         ],
         "title": {
          "text": "Anomaly"
         }
        }
       }
      }
     },
     "metadata": {},
     "output_type": "display_data"
    }
   ],
   "source": [
    "ln_mean=df_decade['Total'].mean()\n",
    "df_decade['Anomaly']=df_decade['Total'] - ln_mean\n",
    "\n",
    "df_decade['Anomaly_color'] = df_decade['Anomaly'].apply(lambda x: 'Below Normal' if x < 0 else 'Above Normal')\n",
    "\n",
    "fig=px.bar(\n",
    "   df_decade,\n",
    "   x='Year',\n",
    "   y='Anomaly',\n",
    "   color='Anomaly_color',\n",
    "   title=\"Annual Rainfall Anomaly: Hyderabad\",\n",
    "   labels=('Year','Yearwise Anomaly'),\n",
    "   color_discrete_map={'Below Normal': 'red', 'Above Normal': 'green'}\n",
    ")\n",
    "fig.show()\n"
   ]
  },
  {
   "cell_type": "markdown",
   "id": "a42c23de",
   "metadata": {},
   "source": [
    "#Q-9 ARIMA model [TIME SERIES ANALYSIS]\n",
    "from statsmodels.tsa.arima.model import ARIMA\n",
    "\n",
    "df['Year']=pd.to_datetime(df['Year'], format='%Y')\n",
    "df.set_index('Year', inplace=True)\n",
    "\n",
    "ts_rainfall=df['Total']\n",
    "\n",
    "my_model=ARIMA(ts_rainfall, order=(1,1,1))\n",
    "md_fit=my_model.fit()\n",
    "\n",
    "forecast = md_fit.forecast(steps=10)\n",
    "\n",
    "print(f\"forecast:{forecast}\")\n",
    "\n",
    "last_date = ts_rainfall.index[-1]\n",
    "\n",
    "future_dates = pd.date_range(start=last_date + pd.DateOffset(years=1), periods=10, freq='YE')"
   ]
  },
  {
   "cell_type": "code",
   "execution_count": 23,
   "id": "ac099521",
   "metadata": {},
   "outputs": [
    {
     "name": "stdout",
     "output_type": "stream",
     "text": [
      "⚠️ The Predicted Values are based upon previous recorded Normal or Avrage Values and does not count Uncertinity in Rainfall spells\n"
     ]
    },
    {
     "data": {
      "application/vnd.plotly.v1+json": {
       "config": {
        "plotlyServerURL": "https://plot.ly"
       },
       "data": [
        {
         "line": {
          "color": "royalblue"
         },
         "mode": "lines+markers",
         "name": "Forecast",
         "type": "scatter",
         "x": [
          "2022-02-01T00:00:00.000000000",
          "2022-03-01T00:00:00.000000000",
          "2022-04-01T00:00:00.000000000",
          "2022-05-01T00:00:00.000000000",
          "2022-06-01T00:00:00.000000000",
          "2022-07-01T00:00:00.000000000",
          "2022-08-01T00:00:00.000000000",
          "2022-09-01T00:00:00.000000000",
          "2022-10-01T00:00:00.000000000",
          "2022-11-01T00:00:00.000000000",
          "2022-12-01T00:00:00.000000000"
         ],
         "y": {
          "bdata": "/DyPXkDwJUBuCiDJH1cpQEow170cAzFAyZtd2CQeO0DRyqdohexBQAtXnQjVG11Adgp9XDbyZUD7TDJ+wFlkQNzWvoeyTGZAsnkAZvPRV0CjIuq/7cU+QA==",
          "dtype": "f8"
         }
        },
        {
         "fill": "toself",
         "fillcolor": "rgba(0, 0, 255, 0.1)",
         "hoverinfo": "skip",
         "line": {
          "color": "rgba(255,255,255,0)"
         },
         "name": "95% CI",
         "showlegend": true,
         "type": "scatter",
         "x": [
          "2022-02-01T00:00:00",
          "2022-03-01T00:00:00",
          "2022-04-01T00:00:00",
          "2022-05-01T00:00:00",
          "2022-06-01T00:00:00",
          "2022-07-01T00:00:00",
          "2022-08-01T00:00:00",
          "2022-09-01T00:00:00",
          "2022-10-01T00:00:00",
          "2022-11-01T00:00:00",
          "2022-12-01T00:00:00",
          "2022-12-01T00:00:00",
          "2022-11-01T00:00:00",
          "2022-10-01T00:00:00",
          "2022-09-01T00:00:00",
          "2022-08-01T00:00:00",
          "2022-07-01T00:00:00",
          "2022-06-01T00:00:00",
          "2022-05-01T00:00:00",
          "2022-04-01T00:00:00",
          "2022-03-01T00:00:00",
          "2022-02-01T00:00:00"
         ],
         "y": [
          -90.55816818877193,
          -88.92807087655184,
          -84.58644121917655,
          -74.48086850597888,
          -65.75080713241996,
          14.836239199363533,
          73.97048767108495,
          61.20608956282578,
          76.79812524366046,
          -6.318197118537569,
          -70.82553135739988,
          132.37184940141756,
          196.87915884275066,
          279.995461244554,
          264.40340578752284,
          277.1677841265157,
          218.03351588496486,
          137.44644976000217,
          128.7163679315878,
          118.61075584212477,
          114.26839963700645,
          112.4966503874588
         ]
        }
       ],
       "layout": {
        "height": 600,
        "template": {
         "data": {
          "bar": [
           {
            "error_x": {
             "color": "#2a3f5f"
            },
            "error_y": {
             "color": "#2a3f5f"
            },
            "marker": {
             "line": {
              "color": "#E5ECF6",
              "width": 0.5
             },
             "pattern": {
              "fillmode": "overlay",
              "size": 10,
              "solidity": 0.2
             }
            },
            "type": "bar"
           }
          ],
          "barpolar": [
           {
            "marker": {
             "line": {
              "color": "#E5ECF6",
              "width": 0.5
             },
             "pattern": {
              "fillmode": "overlay",
              "size": 10,
              "solidity": 0.2
             }
            },
            "type": "barpolar"
           }
          ],
          "carpet": [
           {
            "aaxis": {
             "endlinecolor": "#2a3f5f",
             "gridcolor": "white",
             "linecolor": "white",
             "minorgridcolor": "white",
             "startlinecolor": "#2a3f5f"
            },
            "baxis": {
             "endlinecolor": "#2a3f5f",
             "gridcolor": "white",
             "linecolor": "white",
             "minorgridcolor": "white",
             "startlinecolor": "#2a3f5f"
            },
            "type": "carpet"
           }
          ],
          "choropleth": [
           {
            "colorbar": {
             "outlinewidth": 0,
             "ticks": ""
            },
            "type": "choropleth"
           }
          ],
          "contour": [
           {
            "colorbar": {
             "outlinewidth": 0,
             "ticks": ""
            },
            "colorscale": [
             [
              0,
              "#0d0887"
             ],
             [
              0.1111111111111111,
              "#46039f"
             ],
             [
              0.2222222222222222,
              "#7201a8"
             ],
             [
              0.3333333333333333,
              "#9c179e"
             ],
             [
              0.4444444444444444,
              "#bd3786"
             ],
             [
              0.5555555555555556,
              "#d8576b"
             ],
             [
              0.6666666666666666,
              "#ed7953"
             ],
             [
              0.7777777777777778,
              "#fb9f3a"
             ],
             [
              0.8888888888888888,
              "#fdca26"
             ],
             [
              1,
              "#f0f921"
             ]
            ],
            "type": "contour"
           }
          ],
          "contourcarpet": [
           {
            "colorbar": {
             "outlinewidth": 0,
             "ticks": ""
            },
            "type": "contourcarpet"
           }
          ],
          "heatmap": [
           {
            "colorbar": {
             "outlinewidth": 0,
             "ticks": ""
            },
            "colorscale": [
             [
              0,
              "#0d0887"
             ],
             [
              0.1111111111111111,
              "#46039f"
             ],
             [
              0.2222222222222222,
              "#7201a8"
             ],
             [
              0.3333333333333333,
              "#9c179e"
             ],
             [
              0.4444444444444444,
              "#bd3786"
             ],
             [
              0.5555555555555556,
              "#d8576b"
             ],
             [
              0.6666666666666666,
              "#ed7953"
             ],
             [
              0.7777777777777778,
              "#fb9f3a"
             ],
             [
              0.8888888888888888,
              "#fdca26"
             ],
             [
              1,
              "#f0f921"
             ]
            ],
            "type": "heatmap"
           }
          ],
          "histogram": [
           {
            "marker": {
             "pattern": {
              "fillmode": "overlay",
              "size": 10,
              "solidity": 0.2
             }
            },
            "type": "histogram"
           }
          ],
          "histogram2d": [
           {
            "colorbar": {
             "outlinewidth": 0,
             "ticks": ""
            },
            "colorscale": [
             [
              0,
              "#0d0887"
             ],
             [
              0.1111111111111111,
              "#46039f"
             ],
             [
              0.2222222222222222,
              "#7201a8"
             ],
             [
              0.3333333333333333,
              "#9c179e"
             ],
             [
              0.4444444444444444,
              "#bd3786"
             ],
             [
              0.5555555555555556,
              "#d8576b"
             ],
             [
              0.6666666666666666,
              "#ed7953"
             ],
             [
              0.7777777777777778,
              "#fb9f3a"
             ],
             [
              0.8888888888888888,
              "#fdca26"
             ],
             [
              1,
              "#f0f921"
             ]
            ],
            "type": "histogram2d"
           }
          ],
          "histogram2dcontour": [
           {
            "colorbar": {
             "outlinewidth": 0,
             "ticks": ""
            },
            "colorscale": [
             [
              0,
              "#0d0887"
             ],
             [
              0.1111111111111111,
              "#46039f"
             ],
             [
              0.2222222222222222,
              "#7201a8"
             ],
             [
              0.3333333333333333,
              "#9c179e"
             ],
             [
              0.4444444444444444,
              "#bd3786"
             ],
             [
              0.5555555555555556,
              "#d8576b"
             ],
             [
              0.6666666666666666,
              "#ed7953"
             ],
             [
              0.7777777777777778,
              "#fb9f3a"
             ],
             [
              0.8888888888888888,
              "#fdca26"
             ],
             [
              1,
              "#f0f921"
             ]
            ],
            "type": "histogram2dcontour"
           }
          ],
          "mesh3d": [
           {
            "colorbar": {
             "outlinewidth": 0,
             "ticks": ""
            },
            "type": "mesh3d"
           }
          ],
          "parcoords": [
           {
            "line": {
             "colorbar": {
              "outlinewidth": 0,
              "ticks": ""
             }
            },
            "type": "parcoords"
           }
          ],
          "pie": [
           {
            "automargin": true,
            "type": "pie"
           }
          ],
          "scatter": [
           {
            "fillpattern": {
             "fillmode": "overlay",
             "size": 10,
             "solidity": 0.2
            },
            "type": "scatter"
           }
          ],
          "scatter3d": [
           {
            "line": {
             "colorbar": {
              "outlinewidth": 0,
              "ticks": ""
             }
            },
            "marker": {
             "colorbar": {
              "outlinewidth": 0,
              "ticks": ""
             }
            },
            "type": "scatter3d"
           }
          ],
          "scattercarpet": [
           {
            "marker": {
             "colorbar": {
              "outlinewidth": 0,
              "ticks": ""
             }
            },
            "type": "scattercarpet"
           }
          ],
          "scattergeo": [
           {
            "marker": {
             "colorbar": {
              "outlinewidth": 0,
              "ticks": ""
             }
            },
            "type": "scattergeo"
           }
          ],
          "scattergl": [
           {
            "marker": {
             "colorbar": {
              "outlinewidth": 0,
              "ticks": ""
             }
            },
            "type": "scattergl"
           }
          ],
          "scattermap": [
           {
            "marker": {
             "colorbar": {
              "outlinewidth": 0,
              "ticks": ""
             }
            },
            "type": "scattermap"
           }
          ],
          "scattermapbox": [
           {
            "marker": {
             "colorbar": {
              "outlinewidth": 0,
              "ticks": ""
             }
            },
            "type": "scattermapbox"
           }
          ],
          "scatterpolar": [
           {
            "marker": {
             "colorbar": {
              "outlinewidth": 0,
              "ticks": ""
             }
            },
            "type": "scatterpolar"
           }
          ],
          "scatterpolargl": [
           {
            "marker": {
             "colorbar": {
              "outlinewidth": 0,
              "ticks": ""
             }
            },
            "type": "scatterpolargl"
           }
          ],
          "scatterternary": [
           {
            "marker": {
             "colorbar": {
              "outlinewidth": 0,
              "ticks": ""
             }
            },
            "type": "scatterternary"
           }
          ],
          "surface": [
           {
            "colorbar": {
             "outlinewidth": 0,
             "ticks": ""
            },
            "colorscale": [
             [
              0,
              "#0d0887"
             ],
             [
              0.1111111111111111,
              "#46039f"
             ],
             [
              0.2222222222222222,
              "#7201a8"
             ],
             [
              0.3333333333333333,
              "#9c179e"
             ],
             [
              0.4444444444444444,
              "#bd3786"
             ],
             [
              0.5555555555555556,
              "#d8576b"
             ],
             [
              0.6666666666666666,
              "#ed7953"
             ],
             [
              0.7777777777777778,
              "#fb9f3a"
             ],
             [
              0.8888888888888888,
              "#fdca26"
             ],
             [
              1,
              "#f0f921"
             ]
            ],
            "type": "surface"
           }
          ],
          "table": [
           {
            "cells": {
             "fill": {
              "color": "#EBF0F8"
             },
             "line": {
              "color": "white"
             }
            },
            "header": {
             "fill": {
              "color": "#C8D4E3"
             },
             "line": {
              "color": "white"
             }
            },
            "type": "table"
           }
          ]
         },
         "layout": {
          "annotationdefaults": {
           "arrowcolor": "#2a3f5f",
           "arrowhead": 0,
           "arrowwidth": 1
          },
          "autotypenumbers": "strict",
          "coloraxis": {
           "colorbar": {
            "outlinewidth": 0,
            "ticks": ""
           }
          },
          "colorscale": {
           "diverging": [
            [
             0,
             "#8e0152"
            ],
            [
             0.1,
             "#c51b7d"
            ],
            [
             0.2,
             "#de77ae"
            ],
            [
             0.3,
             "#f1b6da"
            ],
            [
             0.4,
             "#fde0ef"
            ],
            [
             0.5,
             "#f7f7f7"
            ],
            [
             0.6,
             "#e6f5d0"
            ],
            [
             0.7,
             "#b8e186"
            ],
            [
             0.8,
             "#7fbc41"
            ],
            [
             0.9,
             "#4d9221"
            ],
            [
             1,
             "#276419"
            ]
           ],
           "sequential": [
            [
             0,
             "#0d0887"
            ],
            [
             0.1111111111111111,
             "#46039f"
            ],
            [
             0.2222222222222222,
             "#7201a8"
            ],
            [
             0.3333333333333333,
             "#9c179e"
            ],
            [
             0.4444444444444444,
             "#bd3786"
            ],
            [
             0.5555555555555556,
             "#d8576b"
            ],
            [
             0.6666666666666666,
             "#ed7953"
            ],
            [
             0.7777777777777778,
             "#fb9f3a"
            ],
            [
             0.8888888888888888,
             "#fdca26"
            ],
            [
             1,
             "#f0f921"
            ]
           ],
           "sequentialminus": [
            [
             0,
             "#0d0887"
            ],
            [
             0.1111111111111111,
             "#46039f"
            ],
            [
             0.2222222222222222,
             "#7201a8"
            ],
            [
             0.3333333333333333,
             "#9c179e"
            ],
            [
             0.4444444444444444,
             "#bd3786"
            ],
            [
             0.5555555555555556,
             "#d8576b"
            ],
            [
             0.6666666666666666,
             "#ed7953"
            ],
            [
             0.7777777777777778,
             "#fb9f3a"
            ],
            [
             0.8888888888888888,
             "#fdca26"
            ],
            [
             1,
             "#f0f921"
            ]
           ]
          },
          "colorway": [
           "#636efa",
           "#EF553B",
           "#00cc96",
           "#ab63fa",
           "#FFA15A",
           "#19d3f3",
           "#FF6692",
           "#B6E880",
           "#FF97FF",
           "#FECB52"
          ],
          "font": {
           "color": "#2a3f5f"
          },
          "geo": {
           "bgcolor": "white",
           "lakecolor": "white",
           "landcolor": "#E5ECF6",
           "showlakes": true,
           "showland": true,
           "subunitcolor": "white"
          },
          "hoverlabel": {
           "align": "left"
          },
          "hovermode": "closest",
          "mapbox": {
           "style": "light"
          },
          "paper_bgcolor": "white",
          "plot_bgcolor": "#E5ECF6",
          "polar": {
           "angularaxis": {
            "gridcolor": "white",
            "linecolor": "white",
            "ticks": ""
           },
           "bgcolor": "#E5ECF6",
           "radialaxis": {
            "gridcolor": "white",
            "linecolor": "white",
            "ticks": ""
           }
          },
          "scene": {
           "xaxis": {
            "backgroundcolor": "#E5ECF6",
            "gridcolor": "white",
            "gridwidth": 2,
            "linecolor": "white",
            "showbackground": true,
            "ticks": "",
            "zerolinecolor": "white"
           },
           "yaxis": {
            "backgroundcolor": "#E5ECF6",
            "gridcolor": "white",
            "gridwidth": 2,
            "linecolor": "white",
            "showbackground": true,
            "ticks": "",
            "zerolinecolor": "white"
           },
           "zaxis": {
            "backgroundcolor": "#E5ECF6",
            "gridcolor": "white",
            "gridwidth": 2,
            "linecolor": "white",
            "showbackground": true,
            "ticks": "",
            "zerolinecolor": "white"
           }
          },
          "shapedefaults": {
           "line": {
            "color": "#2a3f5f"
           }
          },
          "ternary": {
           "aaxis": {
            "gridcolor": "white",
            "linecolor": "white",
            "ticks": ""
           },
           "baxis": {
            "gridcolor": "white",
            "linecolor": "white",
            "ticks": ""
           },
           "bgcolor": "#E5ECF6",
           "caxis": {
            "gridcolor": "white",
            "linecolor": "white",
            "ticks": ""
           }
          },
          "title": {
           "x": 0.05
          },
          "xaxis": {
           "automargin": true,
           "gridcolor": "white",
           "linecolor": "white",
           "ticks": "",
           "title": {
            "standoff": 15
           },
           "zerolinecolor": "white",
           "zerolinewidth": 2
          },
          "yaxis": {
           "automargin": true,
           "gridcolor": "white",
           "linecolor": "white",
           "ticks": "",
           "title": {
            "standoff": 15
           },
           "zerolinecolor": "white",
           "zerolinewidth": 2
          }
         }
        },
        "title": {
         "text": "SARIMA Forecast: Upto December 2022",
         "x": 0.5
        },
        "width": 1000,
        "xaxis": {
         "title": {
          "text": "Month"
         }
        },
        "yaxis": {
         "title": {
          "text": "Rainfall(mm)"
         }
        }
       }
      }
     },
     "metadata": {},
     "output_type": "display_data"
    }
   ],
   "source": [
    "#Q-9 Rainfal Forecasting usin SARIMA (Seasonal Auto Regressive Integrated Moving Average) -fn()=> SARIMA(p,d,q) * (P,D,Q,s)\n",
    "'''\n",
    "Where:\n",
    "\n",
    "(p,d,q) → same as ARIMA: non-seasonal autoregressive, differencing, moving average.\n",
    "\n",
    "(P,D,Q,s) → seasonal AR, differencing, MA, and s = seasonal period length.\n",
    "\n",
    "For monthly rainfall, s = 12 (12 months in a Cycle).\n",
    "\n",
    "'''\n",
    "from statsmodels.tsa.statespace.sarimax import SARIMAX\n",
    "import plotly.graph_objects as go\n",
    "\n",
    "user_year = int(input(\"Enter the target year for forecast (e.g., 2025): \"))\n",
    "\n",
    "df=df.reset_index(drop=True)\n",
    "\n",
    "\n",
    "ts_rainfall = df.set_index('Year')[monthly_cols].stack()\n",
    "ts_rainfall.index = pd.date_range(start='1901-01-01', periods=len(ts_rainfall), freq='ME')\n",
    "\n",
    "last_date = ts_rainfall.index[-1]\n",
    "last_year = last_date.year\n",
    "\n",
    "forecast_months=((user_year- last_year)) *12 -1\n",
    "\n",
    "if forecast_months  <=0:\n",
    "   raise ValueError(\"Target Year must be after last data year e.g. 2021!!\")\n",
    "\n",
    "\n",
    "order = (1, 1, 1)\n",
    "seasonal_order = (1, 1, 1, 12)\n",
    "\n",
    "model = SARIMAX(ts_rainfall, order=order, seasonal_order=seasonal_order)\n",
    "model_fit = model.fit()\n",
    "\n",
    "#print(model_fit.summary())\n",
    "\n",
    "forecast = model_fit.get_forecast(steps=forecast_months)\n",
    "forecast_ci = forecast.conf_int()\n",
    "forecast_mean=forecast.predicted_mean\n",
    "\n",
    "future_dates=pd.date_range(start=last_date + pd.DateOffset(months=1), periods=forecast_months, freq='MS')\n",
    "\n",
    "fig = go.Figure()\n",
    "\n",
    "print(\"⚠️ The Predicted Values are based upon previous recorded Normal or Avrage Values and does not count Uncertinity in Rainfall spells\")\n",
    "\n",
    "fig.add_trace(go.Scatter(\n",
    "    x=future_dates,\n",
    "    y=forecast_mean,\n",
    "    mode='lines+markers',\n",
    "    name='Forecast',\n",
    "    line=dict(color='royalblue')\n",
    "))\n",
    "\n",
    "fig.add_trace(go.Scatter(\n",
    "    x=future_dates.tolist() + future_dates[::-1].tolist(),\n",
    "    y=forecast_ci.iloc[:, 0].tolist() + forecast_ci.iloc[:, 1][::-1].tolist(),\n",
    "    fill='toself',\n",
    "    fillcolor='rgba(0, 0, 255, 0.1)',\n",
    "    line=dict(color='rgba(255,255,255,0)'),\n",
    "    hoverinfo=\"skip\",\n",
    "    showlegend=True,\n",
    "    name='95% CI'\n",
    "))\n",
    "\n",
    "fig.update_layout(\n",
    "    title=f'SARIMA Forecast: Upto December {user_year}',\n",
    "    xaxis_title='Month',\n",
    "    yaxis_title='Rainfall(mm)',\n",
    "    width=1000,\n",
    "    height=600,\n",
    "    title_x=0.5\n",
    ")\n",
    "\n",
    "fig.show()\n"
   ]
  }
 ],
 "metadata": {
  "kernelspec": {
   "display_name": "jupyter-env",
   "language": "python",
   "name": "python3"
  },
  "language_info": {
   "codemirror_mode": {
    "name": "ipython",
    "version": 3
   },
   "file_extension": ".py",
   "mimetype": "text/x-python",
   "name": "python",
   "nbconvert_exporter": "python",
   "pygments_lexer": "ipython3",
   "version": "3.13.5"
  }
 },
 "nbformat": 4,
 "nbformat_minor": 5
}
